{
 "cells": [
  {
   "cell_type": "markdown",
   "metadata": {},
   "source": [
    "# Data analysis of Zenodo zip content\n",
    "\n",
    "This [Jupyter Notebook](https://jupyter.org/) explores the data retrieved by [data-gathering](../data-gathering) workflows.\n",
    "\n",
    "It assumes the `../../data` directory has been populated by the [Snakemake](https://snakemake.readthedocs.io/en/stable/) workflow [zenodo-random-samples-zip-content](data-gathering/workflows/zenodo-random-samples-zip-content/). To regenerate `data` run `make` in the root directory of this repository."
   ]
  },
  {
   "cell_type": "code",
   "execution_count": 14,
   "metadata": {},
   "outputs": [
    {
     "name": "stdout",
     "output_type": "stream",
     "text": [
      "/home/stain/ro-index-paper/code/analysis\r\n"
     ]
    }
   ],
   "source": [
    "!pwd"
   ]
  },
  {
   "cell_type": "markdown",
   "metadata": {},
   "source": [
    "For convenience, the `data` symlink points to `../../data`."
   ]
  },
  {
   "cell_type": "code",
   "execution_count": 15,
   "metadata": {},
   "outputs": [
    {
     "name": "stdout",
     "output_type": "stream",
     "text": [
      "dataset  others  seed  software  zenodo-records  zenodo.org\r\n"
     ]
    }
   ],
   "source": [
    "!ls data"
   ]
  },
  {
   "cell_type": "markdown",
   "metadata": {},
   "source": [
    "This notebook analyse the zenodo records sampled using this random seed:"
   ]
  },
  {
   "cell_type": "code",
   "execution_count": 16,
   "metadata": {},
   "outputs": [
    {
     "name": "stdout",
     "output_type": "stream",
     "text": [
      "a381bd4152d69342661bba7cb00c34561bdfe69930a00a39973851076fc0ae4b8850df817adc8cad31481004ddeb3eaa080d61ed9dab280be80808b9da2cb97e  data/seed\r\n"
     ]
    }
   ],
   "source": [
    "!sha512sum data/seed"
   ]
  },
  {
   "cell_type": "markdown",
   "metadata": {},
   "source": [
    "## Zenodo metadata\n",
    "\n",
    "The starting point of this analysis is the Zenodo metadata dump <https://doi.org/10.5281/zenodo.3531504>. This contains the metadata of 3.5 million Zenodo records in the [Zenodo REST API](https://developers.zenodo.org/)'s internal JSON format. \n",
    "\n",
    "Each Zenodo record, for instance <https://zenodo.org/record/14614> consists of metadata <https://zenodo.org/api/records/14614> which links to one or more downloadable files like <https://zenodo.org/api/files/866253b6-e4f2-4a06-96fa-618ff76438e6/powertac_2014_04_qualifying_21-30.zip>. \n",
    "\n",
    "Below we explore Zenodo record `14614` to highlight which part of the metadata we need to inspect."
   ]
  },
  {
   "cell_type": "code",
   "execution_count": 17,
   "metadata": {},
   "outputs": [
    {
     "data": {
      "text/plain": [
       "{'conceptrecid': '607830',\n",
       " 'created': '2015-01-27T16:15:18+00:00',\n",
       " 'doi': '10.5281/zenodo.14614',\n",
       " 'files': [{'bucket': '866253b6-e4f2-4a06-96fa-618ff76438e6',\n",
       "   'checksum': 'md5:bf8069e726b37dce93593cf377a86a61',\n",
       "   'key': 'powertac_2014_04_qualifying_21-30.zip',\n",
       "   'links': {'self': 'https://zenodo.org/api/files/866253b6-e4f2-4a06-96fa-618ff76438e6/powertac_2014_04_qualifying_21-30.zip'},\n",
       "   'size': 799012573,\n",
       "   'type': 'zip'}],\n",
       " 'id': 14614,\n",
       " 'links': {'badge': 'https://zenodo.org/badge/doi/10.5281/zenodo.14614.svg',\n",
       "  'bucket': 'https://zenodo.org/api/files/866253b6-e4f2-4a06-96fa-618ff76438e6',\n",
       "  'doi': 'https://doi.org/10.5281/zenodo.14614',\n",
       "  'html': 'https://zenodo.org/record/14614',\n",
       "  'latest': 'https://zenodo.org/api/records/14614',\n",
       "  'latest_html': 'https://zenodo.org/record/14614',\n",
       "  'self': 'https://zenodo.org/api/records/14614'},\n",
       " 'metadata': {'access_right': 'open',\n",
       "  'access_right_category': 'success',\n",
       "  'communities': [{'id': 'powertac'}],\n",
       "  'creators': [{'name': 'PowerTAC'}],\n",
       "  'description': '<p>Log and boot files of games 21 - 30</p>',\n",
       "  'doi': '10.5281/zenodo.14614',\n",
       "  'keywords': ['PowerTAC'],\n",
       "  'license': {'id': 'CC0-1.0'},\n",
       "  'publication_date': '2015-01-27',\n",
       "  'relations': {'version': [{'count': 1,\n",
       "     'index': 0,\n",
       "     'is_last': True,\n",
       "     'last_child': {'pid_type': 'recid', 'pid_value': '14614'},\n",
       "     'parent': {'pid_type': 'recid', 'pid_value': '607830'}}]},\n",
       "  'resource_type': {'title': 'Dataset', 'type': 'dataset'},\n",
       "  'title': 'PowerTAC 2014-04 Qualifying 21-30'},\n",
       " 'owners': [7520],\n",
       " 'revision': 8,\n",
       " 'stats': {'downloads': 0.0,\n",
       "  'unique_downloads': 0.0,\n",
       "  'unique_views': 8.0,\n",
       "  'version_downloads': 0.0,\n",
       "  'version_unique_downloads': 0.0,\n",
       "  'version_unique_views': 8.0,\n",
       "  'version_views': 12.0,\n",
       "  'version_volume': 0.0,\n",
       "  'views': 12.0,\n",
       "  'volume': 0.0},\n",
       " 'updated': '2019-11-01T07:13:59.527858+00:00'}"
      ]
     },
     "execution_count": 17,
     "metadata": {},
     "output_type": "execute_result"
    }
   ],
   "source": [
    "import requests\n",
    "rec = requests.get(\"https://zenodo.org/api/records/14614\").json()\n",
    "rec"
   ]
  },
  {
   "cell_type": "code",
   "execution_count": 18,
   "metadata": {},
   "outputs": [
    {
     "data": {
      "text/plain": [
       "'zip'"
      ]
     },
     "execution_count": 18,
     "metadata": {},
     "output_type": "execute_result"
    }
   ],
   "source": [
    "rec[\"files\"][0][\"type\"] # File extension"
   ]
  },
  {
   "cell_type": "code",
   "execution_count": 19,
   "metadata": {},
   "outputs": [
    {
     "data": {
      "text/plain": [
       "'https://zenodo.org/api/files/866253b6-e4f2-4a06-96fa-618ff76438e6/powertac_2014_04_qualifying_21-30.zip'"
      ]
     },
     "execution_count": 19,
     "metadata": {},
     "output_type": "execute_result"
    }
   ],
   "source": [
    "rec[\"files\"][0][\"links\"][\"self\"] # Download link"
   ]
  },
  {
   "cell_type": "code",
   "execution_count": 20,
   "metadata": {},
   "outputs": [
    {
     "data": {
      "text/plain": [
       "'open'"
      ]
     },
     "execution_count": 20,
     "metadata": {},
     "output_type": "execute_result"
    }
   ],
   "source": [
    "rec[\"metadata\"][\"access_right\"] # \"open\" means we are allowed to download the above"
   ]
  },
  {
   "cell_type": "code",
   "execution_count": 21,
   "metadata": {},
   "outputs": [
    {
     "data": {
      "text/plain": [
       "'https://doi.org/10.5281/zenodo.14614'"
      ]
     },
     "execution_count": 21,
     "metadata": {},
     "output_type": "execute_result"
    }
   ],
   "source": [
    "rec[\"links\"][\"doi\"] # DOI for citing this Zenodo record"
   ]
  },
  {
   "cell_type": "code",
   "execution_count": 22,
   "metadata": {},
   "outputs": [
    {
     "data": {
      "text/plain": [
       "'dataset'"
      ]
     },
     "execution_count": 22,
     "metadata": {},
     "output_type": "execute_result"
    }
   ],
   "source": [
    "rec[\"metadata\"][\"resource_type\"][\"type\"]   # DateCite resource type; \"software\", \"dataset\", etc."
   ]
  },
  {
   "cell_type": "markdown",
   "metadata": {},
   "source": [
    "The preliminary workflow that produced the Zenodo dump retrieved the 3.5M JSON files and concatinated them into a single JSONseq format [RFC7464](https://tools.ietf.org/html/rfc7464) to be more easily processed with tools like [jq](https://stedolan.github.io/jq/).\n",
    "\n",
    "As this particular analysis explores the content of deposited **ZIP archives**, an important step of the archive content workflow is to select only the Zenodo records that deposits `*.zip` files, by filtering the metadata fields shown above `rec[\"metadata\"][\"access_right\"] == \"open\"` and `rec[\"files\"][*][\"type\"] == \"zip\"`.\n",
    "\n",
    "Before we explore this, let's have a quick look at what file extensions are most commonly deposited at Zenodo."
   ]
  },
  {
   "cell_type": "markdown",
   "metadata": {},
   "source": [
    "### Zenodo deposits by file extension\n",
    "\n",
    "Below use [jq](https://stedolan.github.io/jq/) from the compressed jsonseq to select all downloadable files from Zenodo, expressed as a TSV file. "
   ]
  },
  {
   "cell_type": "code",
   "execution_count": 23,
   "metadata": {},
   "outputs": [],
   "source": [
    "!xzcat data/zenodo.org/record/3531504/files/zenodo-records-json-2019-09-16-filtered.jsonseq.xz |\\\n",
    " jq -r '. | select(.metadata.access_right == \"open\") | .metadata.resource_type.type as $rectype | . as $rec | ( .files[]?  ) | [$rec.id, $rec.links.self, $rec.links.doi, .checksum, .links.self, .size, .type, .key, $rectype] | @tsv' |\\\n",
    " gzip > data/zenodo-records/files.tsv.gz "
   ]
  },
  {
   "cell_type": "markdown",
   "metadata": {},
   "source": [
    "The table contains one line per download; note that some records have multiple downloads. \n",
    "\n",
    "Parse the TSV file with the Python Data Analysis Library [pandas](https://pandas.pydata.org/):"
   ]
  },
  {
   "cell_type": "code",
   "execution_count": 24,
   "metadata": {},
   "outputs": [
    {
     "data": {
      "text/html": [
       "<div>\n",
       "<style scoped>\n",
       "    .dataframe tbody tr th:only-of-type {\n",
       "        vertical-align: middle;\n",
       "    }\n",
       "\n",
       "    .dataframe tbody tr th {\n",
       "        vertical-align: top;\n",
       "    }\n",
       "\n",
       "    .dataframe thead th {\n",
       "        text-align: right;\n",
       "    }\n",
       "</style>\n",
       "<table border=\"1\" class=\"dataframe\">\n",
       "  <thead>\n",
       "    <tr style=\"text-align: right;\">\n",
       "      <th></th>\n",
       "      <th>record_id</th>\n",
       "      <th>record_json</th>\n",
       "      <th>record_doi</th>\n",
       "      <th>file_checksum</th>\n",
       "      <th>file_download</th>\n",
       "      <th>file_size</th>\n",
       "      <th>file_extension</th>\n",
       "      <th>file_name</th>\n",
       "      <th>record_type</th>\n",
       "    </tr>\n",
       "  </thead>\n",
       "  <tbody>\n",
       "    <tr>\n",
       "      <th>0</th>\n",
       "      <td>788</td>\n",
       "      <td>https://zenodo.org/api/records/788</td>\n",
       "      <td>https://doi.org/10.1016/j.pocean.2009.09.002</td>\n",
       "      <td>md5:705ebd78f09b797130ecb0d9b610ae84</td>\n",
       "      <td>https://zenodo.org/api/files/22ae1d25-576e-490...</td>\n",
       "      <td>52113</td>\n",
       "      <td>pdf</td>\n",
       "      <td>hofmann FINAL.pdf</td>\n",
       "      <td>publication</td>\n",
       "    </tr>\n",
       "    <tr>\n",
       "      <th>1</th>\n",
       "      <td>791</td>\n",
       "      <td>https://zenodo.org/api/records/791</td>\n",
       "      <td>https://doi.org/10.1016/j.pocean.2009.09.013</td>\n",
       "      <td>md5:badd06ded9bc0ac4070835213920dcbc</td>\n",
       "      <td>https://zenodo.org/api/files/dc682e6a-5695-4f0...</td>\n",
       "      <td>301315</td>\n",
       "      <td>pdf</td>\n",
       "      <td>Maury FINAL.pdf</td>\n",
       "      <td>publication</td>\n",
       "    </tr>\n",
       "    <tr>\n",
       "      <th>2</th>\n",
       "      <td>804</td>\n",
       "      <td>https://zenodo.org/api/records/804</td>\n",
       "      <td>https://doi.org/10.1371/journal.pone.0011832</td>\n",
       "      <td>md5:a4e3ca94d4b5ca45c25a1d7e5c650939</td>\n",
       "      <td>https://zenodo.org/api/files/60a9aabd-8358-44e...</td>\n",
       "      <td>1534942</td>\n",
       "      <td>pdf</td>\n",
       "      <td>Danovaro et al 2010 PLOSone.pdf</td>\n",
       "      <td>publication</td>\n",
       "    </tr>\n",
       "    <tr>\n",
       "      <th>3</th>\n",
       "      <td>812</td>\n",
       "      <td>https://zenodo.org/api/records/812</td>\n",
       "      <td>https://doi.org/10.1016/j.tibtech.2010.10.001</td>\n",
       "      <td>md5:95fbb0bfce796efaeb223cffa33b1a6d</td>\n",
       "      <td>https://zenodo.org/api/files/b1cbaf58-01a2-4d0...</td>\n",
       "      <td>399492</td>\n",
       "      <td>pdf</td>\n",
       "      <td>Strik postprint TIB.pdf</td>\n",
       "      <td>publication</td>\n",
       "    </tr>\n",
       "    <tr>\n",
       "      <th>4</th>\n",
       "      <td>847</td>\n",
       "      <td>https://zenodo.org/api/records/847</td>\n",
       "      <td>https://doi.org/10.1016/j.mee.2011.04.069</td>\n",
       "      <td>md5:355e490cd910b55a44fdb43912cfe8d8</td>\n",
       "      <td>https://zenodo.org/api/files/b82d2a8d-c02b-4eb...</td>\n",
       "      <td>217919</td>\n",
       "      <td>pdf</td>\n",
       "      <td>LightModulationinPhoxonicNanocavities_Papaniko...</td>\n",
       "      <td>publication</td>\n",
       "    </tr>\n",
       "    <tr>\n",
       "      <th>...</th>\n",
       "      <td>...</td>\n",
       "      <td>...</td>\n",
       "      <td>...</td>\n",
       "      <td>...</td>\n",
       "      <td>...</td>\n",
       "      <td>...</td>\n",
       "      <td>...</td>\n",
       "      <td>...</td>\n",
       "      <td>...</td>\n",
       "    </tr>\n",
       "    <tr>\n",
       "      <th>2203084</th>\n",
       "      <td>3024270</td>\n",
       "      <td>https://zenodo.org/api/records/3024270</td>\n",
       "      <td>https://doi.org/10.5281/zenodo.3024270</td>\n",
       "      <td>md5:094c1a969f2d300ffd1c020329f97147</td>\n",
       "      <td>https://zenodo.org/api/files/b42ec8b0-1231-4c5...</td>\n",
       "      <td>2859031</td>\n",
       "      <td>jpg</td>\n",
       "      <td>BR0000012538638.jpg</td>\n",
       "      <td>image</td>\n",
       "    </tr>\n",
       "    <tr>\n",
       "      <th>2203085</th>\n",
       "      <td>3024600</td>\n",
       "      <td>https://zenodo.org/api/records/3024600</td>\n",
       "      <td>https://doi.org/10.5281/zenodo.3024600</td>\n",
       "      <td>md5:00fded7946f15953f1a04c7b33f01a9b</td>\n",
       "      <td>https://zenodo.org/api/files/ecf6f418-5e2e-443...</td>\n",
       "      <td>2575973</td>\n",
       "      <td>jpg</td>\n",
       "      <td>BR0000011583820.jpg</td>\n",
       "      <td>image</td>\n",
       "    </tr>\n",
       "    <tr>\n",
       "      <th>2203086</th>\n",
       "      <td>3025124</td>\n",
       "      <td>https://zenodo.org/api/records/3025124</td>\n",
       "      <td>https://doi.org/10.5281/zenodo.3025124</td>\n",
       "      <td>md5:0ed56a6a68b536f2284fe9e19d80dcf9</td>\n",
       "      <td>https://zenodo.org/api/files/693d15b2-5cde-457...</td>\n",
       "      <td>3276819</td>\n",
       "      <td>jpg</td>\n",
       "      <td>BR0000011585800.jpg</td>\n",
       "      <td>image</td>\n",
       "    </tr>\n",
       "    <tr>\n",
       "      <th>2203087</th>\n",
       "      <td>3025298</td>\n",
       "      <td>https://zenodo.org/api/records/3025298</td>\n",
       "      <td>https://doi.org/10.5281/zenodo.3025298</td>\n",
       "      <td>md5:f68716ac78690c3d636736660de9a8dd</td>\n",
       "      <td>https://zenodo.org/api/files/85a29013-440d-4f8...</td>\n",
       "      <td>4522707</td>\n",
       "      <td>jpg</td>\n",
       "      <td>BR0000011586258.jpg</td>\n",
       "      <td>image</td>\n",
       "    </tr>\n",
       "    <tr>\n",
       "      <th>2203088</th>\n",
       "      <td>3025458</td>\n",
       "      <td>https://zenodo.org/api/records/3025458</td>\n",
       "      <td>https://doi.org/10.5281/zenodo.3025458</td>\n",
       "      <td>md5:32355a9816c479f8f2722b24e6577388</td>\n",
       "      <td>https://zenodo.org/api/files/501f0db3-fdf6-4cc...</td>\n",
       "      <td>2865136</td>\n",
       "      <td>jpg</td>\n",
       "      <td>BR0000010152133.jpg</td>\n",
       "      <td>image</td>\n",
       "    </tr>\n",
       "  </tbody>\n",
       "</table>\n",
       "<p>2203089 rows × 9 columns</p>\n",
       "</div>"
      ],
      "text/plain": [
       "         record_id                             record_json  \\\n",
       "0              788      https://zenodo.org/api/records/788   \n",
       "1              791      https://zenodo.org/api/records/791   \n",
       "2              804      https://zenodo.org/api/records/804   \n",
       "3              812      https://zenodo.org/api/records/812   \n",
       "4              847      https://zenodo.org/api/records/847   \n",
       "...            ...                                     ...   \n",
       "2203084    3024270  https://zenodo.org/api/records/3024270   \n",
       "2203085    3024600  https://zenodo.org/api/records/3024600   \n",
       "2203086    3025124  https://zenodo.org/api/records/3025124   \n",
       "2203087    3025298  https://zenodo.org/api/records/3025298   \n",
       "2203088    3025458  https://zenodo.org/api/records/3025458   \n",
       "\n",
       "                                            record_doi  \\\n",
       "0         https://doi.org/10.1016/j.pocean.2009.09.002   \n",
       "1         https://doi.org/10.1016/j.pocean.2009.09.013   \n",
       "2         https://doi.org/10.1371/journal.pone.0011832   \n",
       "3        https://doi.org/10.1016/j.tibtech.2010.10.001   \n",
       "4            https://doi.org/10.1016/j.mee.2011.04.069   \n",
       "...                                                ...   \n",
       "2203084         https://doi.org/10.5281/zenodo.3024270   \n",
       "2203085         https://doi.org/10.5281/zenodo.3024600   \n",
       "2203086         https://doi.org/10.5281/zenodo.3025124   \n",
       "2203087         https://doi.org/10.5281/zenodo.3025298   \n",
       "2203088         https://doi.org/10.5281/zenodo.3025458   \n",
       "\n",
       "                                file_checksum  \\\n",
       "0        md5:705ebd78f09b797130ecb0d9b610ae84   \n",
       "1        md5:badd06ded9bc0ac4070835213920dcbc   \n",
       "2        md5:a4e3ca94d4b5ca45c25a1d7e5c650939   \n",
       "3        md5:95fbb0bfce796efaeb223cffa33b1a6d   \n",
       "4        md5:355e490cd910b55a44fdb43912cfe8d8   \n",
       "...                                       ...   \n",
       "2203084  md5:094c1a969f2d300ffd1c020329f97147   \n",
       "2203085  md5:00fded7946f15953f1a04c7b33f01a9b   \n",
       "2203086  md5:0ed56a6a68b536f2284fe9e19d80dcf9   \n",
       "2203087  md5:f68716ac78690c3d636736660de9a8dd   \n",
       "2203088  md5:32355a9816c479f8f2722b24e6577388   \n",
       "\n",
       "                                             file_download  file_size  \\\n",
       "0        https://zenodo.org/api/files/22ae1d25-576e-490...      52113   \n",
       "1        https://zenodo.org/api/files/dc682e6a-5695-4f0...     301315   \n",
       "2        https://zenodo.org/api/files/60a9aabd-8358-44e...    1534942   \n",
       "3        https://zenodo.org/api/files/b1cbaf58-01a2-4d0...     399492   \n",
       "4        https://zenodo.org/api/files/b82d2a8d-c02b-4eb...     217919   \n",
       "...                                                    ...        ...   \n",
       "2203084  https://zenodo.org/api/files/b42ec8b0-1231-4c5...    2859031   \n",
       "2203085  https://zenodo.org/api/files/ecf6f418-5e2e-443...    2575973   \n",
       "2203086  https://zenodo.org/api/files/693d15b2-5cde-457...    3276819   \n",
       "2203087  https://zenodo.org/api/files/85a29013-440d-4f8...    4522707   \n",
       "2203088  https://zenodo.org/api/files/501f0db3-fdf6-4cc...    2865136   \n",
       "\n",
       "        file_extension                                          file_name  \\\n",
       "0                  pdf                                  hofmann FINAL.pdf   \n",
       "1                  pdf                                    Maury FINAL.pdf   \n",
       "2                  pdf                    Danovaro et al 2010 PLOSone.pdf   \n",
       "3                  pdf                            Strik postprint TIB.pdf   \n",
       "4                  pdf  LightModulationinPhoxonicNanocavities_Papaniko...   \n",
       "...                ...                                                ...   \n",
       "2203084            jpg                                BR0000012538638.jpg   \n",
       "2203085            jpg                                BR0000011583820.jpg   \n",
       "2203086            jpg                                BR0000011585800.jpg   \n",
       "2203087            jpg                                BR0000011586258.jpg   \n",
       "2203088            jpg                                BR0000010152133.jpg   \n",
       "\n",
       "         record_type  \n",
       "0        publication  \n",
       "1        publication  \n",
       "2        publication  \n",
       "3        publication  \n",
       "4        publication  \n",
       "...              ...  \n",
       "2203084        image  \n",
       "2203085        image  \n",
       "2203086        image  \n",
       "2203087        image  \n",
       "2203088        image  \n",
       "\n",
       "[2203089 rows x 9 columns]"
      ]
     },
     "execution_count": 24,
     "metadata": {},
     "output_type": "execute_result"
    }
   ],
   "source": [
    "import pandas as pd\n",
    "header = [\"record_id\", \"record_json\", \"record_doi\", \"file_checksum\", \"file_download\", \"file_size\", \"file_extension\", \"file_name\", \"record_type\"]\n",
    "files = pd.read_table(\"data/zenodo-records/files.tsv.gz\", compression=\"gzip\", header=None, names=header)\n",
    "files"
   ]
  },
  {
   "cell_type": "markdown",
   "metadata": {},
   "source": [
    "From this we can select the number of downloadable files per file extension, here the top 30:"
   ]
  },
  {
   "cell_type": "code",
   "execution_count": 25,
   "metadata": {},
   "outputs": [
    {
     "data": {
      "text/plain": [
       "file_extension\n",
       "pdf            764821\n",
       "jpg            506230\n",
       "h5             177683\n",
       "png            174906\n",
       "zip            124751\n",
       "txt             59036\n",
       "gz              33910\n",
       "tif             32472\n",
       "hdf5            30671\n",
       "json            27138\n",
       "bz2             19976\n",
       "csv             16895\n",
       "wav             14804\n",
       "xml             12746\n",
       "mat             11898\n",
       "cbf             11412\n",
       "tgz             10518\n",
       "wmv              9523\n",
       "docx             9158\n",
       "nc               9094\n",
       "perl             8536\n",
       "dcm              6776\n",
       "dat              6491\n",
       "xlsx             6278\n",
       "fits             6233\n",
       "cr2              4742\n",
       "out              4394\n",
       "xls              4029\n",
       "mp4              2923\n",
       "0parameters      2220\n",
       "Name: file_download, dtype: int64"
      ]
     },
     "execution_count": 25,
     "metadata": {},
     "output_type": "execute_result"
    }
   ],
   "source": [
    "extensions = files.groupby(\"file_extension\")[\"file_download\"].nunique().sort_values(ascending=False)\n",
    "extensions.head(30)"
   ]
  },
  {
   "cell_type": "markdown",
   "metadata": {},
   "source": [
    "Note that as some records contain multiple downloads, so if instead we count number of records containing a particular file extension, the list changes somewhat:"
   ]
  },
  {
   "cell_type": "code",
   "execution_count": 26,
   "metadata": {},
   "outputs": [
    {
     "data": {
      "text/plain": [
       "file_extension\n",
       "pdf     754024\n",
       "jpg     337958\n",
       "png     160450\n",
       "zip      86788\n",
       "hdf5     15061\n",
       "txt      11517\n",
       "json     10838\n",
       "xml      10388\n",
       "tgz       8917\n",
       "h5        8777\n",
       "perl      8536\n",
       "docx      8141\n",
       "gz        5466\n",
       "xlsx      3497\n",
       "csv       2779\n",
       "tif       2401\n",
       "out       1590\n",
       "pptx      1573\n",
       "md        1515\n",
       "meta      1191\n",
       "doc       1103\n",
       "mp4       1022\n",
       "xls        840\n",
       "svg        679\n",
       "dat        590\n",
       "rar        499\n",
       "r          497\n",
       "py         462\n",
       "tar        461\n",
       "mat        444\n",
       "Name: record_id, dtype: int64"
      ]
     },
     "execution_count": 26,
     "metadata": {},
     "output_type": "execute_result"
    }
   ],
   "source": [
    "extensions = files.groupby(\"file_extension\")[\"record_id\"].nunique().sort_values(ascending=False)\n",
    "extensions.head(30)"
   ]
  },
  {
   "cell_type": "markdown",
   "metadata": {},
   "source": [
    "Perhaps not unsurprisingly, the document format `*.pdf` is highest in both cases, followed by several image formats like `*.jpg`, `*.png`,  and `*.tif`. \n",
    "\n",
    "Let's see grouping by `record_type` affects the file extensions:"
   ]
  },
  {
   "cell_type": "code",
   "execution_count": 27,
   "metadata": {},
   "outputs": [
    {
     "data": {
      "text/plain": [
       "record_type   file_extension\n",
       "publication   pdf               736905\n",
       "image         jpg               336754\n",
       "              png               159609\n",
       "software      zip                62288\n",
       "dataset       zip                22321\n",
       "              hdf5               15054\n",
       "              txt                10758\n",
       "publication   xml                 9851\n",
       "dataset       tgz                 8798\n",
       "              h5                  8757\n",
       "              json                8715\n",
       "              perl                8536\n",
       "presentation  pdf                 7975\n",
       "publication   docx                6633\n",
       "dataset       gz                  3845\n",
       "poster        pdf                 3697\n",
       "dataset       xlsx                2780\n",
       "              pdf                 2741\n",
       "              csv                 2389\n",
       "image         json                1804\n",
       "              tif                 1636\n",
       "dataset       out                 1578\n",
       "other         pdf                 1410\n",
       "presentation  pptx                1282\n",
       "software      gz                  1272\n",
       "publication   zip                 1199\n",
       "              meta                1187\n",
       "dataset       docx                1145\n",
       "publication   md                  1056\n",
       "              doc                  879\n",
       "Name: record_id, dtype: int64"
      ]
     },
     "execution_count": 27,
     "metadata": {},
     "output_type": "execute_result"
    }
   ],
   "source": [
    "files.groupby([\"record_type\",\"file_extension\"])[\"record_id\"] \\\n",
    "     .nunique().sort_values(ascending=False).head(30)"
   ]
  },
  {
   "cell_type": "markdown",
   "metadata": {},
   "source": [
    "As we might have suspected, `*.pdf` deposits of type `publication` are most common, as Zenodo is frequently used for depositing preprints.  \n",
    "\n",
    "In this research we are looking at archive-like deposits to inspect for structured metadata. It is clear that a large set of deposits above of type `dataset` should be our primary concern, keeping in mind other types, like we notice `*.meta` on `publication` records.\n",
    "\n",
    "A suspicion is that a large set of `*.zip` deposits of record type `software` are made by [Zenodo-GitHub integration](https://guides.github.com/activities/citable-code/) of software source code archives, which we should treat separate as any structured metadata there probably is related to compilation or software packaging. However, it is possible that some datasets are maintained in GitHub repositories and use this integration for automatic dataset DOI registration, although with a misleading record type.\n",
    "\n",
    "Let's look at the file types used by records of type `dataset`:"
   ]
  },
  {
   "cell_type": "code",
   "execution_count": 28,
   "metadata": {},
   "outputs": [
    {
     "data": {
      "text/plain": [
       "file_extension\n",
       "zip     22321\n",
       "hdf5    15054\n",
       "txt     10758\n",
       "tgz      8798\n",
       "h5       8757\n",
       "json     8715\n",
       "perl     8536\n",
       "gz       3845\n",
       "xlsx     2780\n",
       "pdf      2741\n",
       "csv      2389\n",
       "out      1578\n",
       "docx     1145\n",
       "xls       693\n",
       "tif       615\n",
       "dat       525\n",
       "jpg       466\n",
       "xml       459\n",
       "png       433\n",
       "mat       379\n",
       "sav       366\n",
       "tar       339\n",
       "tpr       338\n",
       "nc4       331\n",
       "xtc       329\n",
       "nc        325\n",
       "rar       321\n",
       "gro       316\n",
       "top       307\n",
       "kml       286\n",
       "Name: record_id, dtype: int64"
      ]
     },
     "execution_count": 28,
     "metadata": {},
     "output_type": "execute_result"
    }
   ],
   "source": [
    "files[files.record_type == \"dataset\"].groupby(\"file_extension\")[\"record_id\"] \\\n",
    "  .nunique().sort_values(ascending=False).head(30)"
   ]
  },
  {
   "cell_type": "markdown",
   "metadata": {},
   "source": [
    "We notice that the combination of `*.h5` and `*.hdf5` for the [Hierarchical Data Format](https://www.hdfgroup.org/) overtakes `*.zip` as the most popular file extension; this format can be considered a hybrid of _archive_, _structured_ and _semi-structured data_; as the format supports multiple data entries and metadata, but suspected typical use of the format is a dump of multi-dimensional integers and floating point numbers with no further metadata.\n",
    "\n",
    "### Brief categorization of top 30 Zenodo Dataset file extensions\n",
    "\n",
    "* Archive/combined: zip, hdf5, h5, tgz, tar\n",
    "* Compressed: gz\n",
    "* Structured data: json, xml\n",
    "* Semi-structured data: xlsx, csv, xls\n",
    "* Unstructured/proprietary: txt, dat, mat (matlab)\n",
    "* Textual/document: pdf, docx\n",
    "* Image: tif, jpg, png\n",
    "* Source code: perl\n",
    "* Save games for emulators: sav\n",
    "* Geodata/maps: kml \n",
    "* Molecular dynamics: gro (Gromacs)\n",
    "* Log data?: out\n",
    "* **TODO** (Unknown to author): tpr, nc4, xtc, nc, top\n",
    " \n",
    "Setting aside HDF5 for later analysis, we find that archive-like formats is dominated by `*.zip` with 22,321 records, followed 12,982 records for the the combination `*.tgz`, `*.tar` and `*.gz` (which include both `*.tar.gz` archives and single file compressions like `*.txt.gz`).\n",
    "\n",
    "The first analysis therefore examines these ZIP for their file listing, to find common filenames, aiming to repeat this for `tar`-based archives. As we see a large split between `dataset` and `software` records these are kept separate, with a third category for `*.zip` files of any other record type.\n",
    "\n",
    "Number of `*.zip` downloads per record type:"
   ]
  },
  {
   "cell_type": "code",
   "execution_count": 29,
   "metadata": {},
   "outputs": [
    {
     "data": {
      "text/plain": [
       "record_type\n",
       "dataset         58384\n",
       "image             243\n",
       "lesson            390\n",
       "other             620\n",
       "poster             21\n",
       "presentation      130\n",
       "publication      1951\n",
       "software        62799\n",
       "video             213\n",
       "Name: file_download, dtype: int64"
      ]
     },
     "execution_count": 29,
     "metadata": {},
     "output_type": "execute_result"
    }
   ],
   "source": [
    "files[files.file_extension == \"zip\"].groupby(\"record_type\")[\"file_download\"].count()"
   ]
  },
  {
   "cell_type": "markdown",
   "metadata": {},
   "source": [
    "A concern of downloading to inspect all the ZIP files of Zenodo is that they vary considerably in size:"
   ]
  },
  {
   "cell_type": "code",
   "execution_count": 30,
   "metadata": {},
   "outputs": [
    {
     "data": {
      "text/plain": [
       "count    1.247510e+05\n",
       "mean     2.214071e+08\n",
       "std      1.832143e+09\n",
       "min      0.000000e+00\n",
       "25%      5.728425e+05\n",
       "50%      1.198928e+07\n",
       "75%      1.110557e+08\n",
       "max      1.986057e+11\n",
       "Name: file_size, dtype: float64"
      ]
     },
     "execution_count": 30,
     "metadata": {},
     "output_type": "execute_result"
    }
   ],
   "source": [
    "files[files.file_extension == \"zip\"][\"file_size\"].describe()"
   ]
  },
  {
   "cell_type": "code",
   "execution_count": 31,
   "metadata": {},
   "outputs": [
    {
     "data": {
      "text/plain": [
       "25.120926916089957"
      ]
     },
     "execution_count": 31,
     "metadata": {},
     "output_type": "execute_result"
    }
   ],
   "source": [
    "total_download = files[files.file_extension == \"zip\"][\"file_size\"].sum() / 1024**4\n",
    "total_download"
   ]
  },
  {
   "cell_type": "code",
   "execution_count": 32,
   "metadata": {},
   "outputs": [
    {
     "data": {
      "text/plain": [
       "124751"
      ]
     },
     "execution_count": 32,
     "metadata": {},
     "output_type": "execute_result"
    }
   ],
   "source": [
    "files[files.file_extension == \"zip\"][\"file_size\"].count()"
   ]
  },
  {
   "cell_type": "markdown",
   "metadata": {},
   "source": [
    "We see that 50% of the 125k ZIP files are 11 MiB or less, the largest 25% are 106 MiB or more, and the largest file is 184 GiB. The smallest 25% of ZIP files are less than 559 kiB and would fit on a floppy. This wide spread helps explains the large standard deviation of 1.8 GiB.  Total download of all files is 25 TiB.\n",
    "\n",
    "A binary logarithmic histogram (log2, 80 bins):"
   ]
  },
  {
   "cell_type": "code",
   "execution_count": 33,
   "metadata": {},
   "outputs": [
    {
     "data": {
      "text/plain": [
       "1181811     0.000000\n",
       "1883205     4.459432\n",
       "2036708     6.977280\n",
       "2036702     7.000000\n",
       "1543547     7.189825\n",
       "             ...    \n",
       "447864     36.385185\n",
       "1118364    36.824644\n",
       "139888     36.938645\n",
       "591435     37.014096\n",
       "263240     37.531116\n",
       "Name: file_size, Length: 124751, dtype: float64"
      ]
     },
     "execution_count": 33,
     "metadata": {},
     "output_type": "execute_result"
    },
    {
     "data": {
      "image/png": "[encoded data removed]",
      "text/plain": [
       "<Figure size 432x288 with 1 Axes>"
      ]
     },
     "metadata": {
      "needs_background": "light"
     },
     "output_type": "display_data"
    }
   ],
   "source": [
    "import numpy as np\n",
    "import pandas as pd\n",
    "import seaborn as sns\n",
    "import matplotlib.pyplot as plt\n",
    "from scipy import stats\n",
    "fig,ax = plt.subplots()\n",
    "#ax.set(xscale=\"linear\", yscale=\"linear\")\n",
    "filesizes = files[files.file_extension == \"zip\"][\"file_size\"]\\\n",
    "       .transform(np.log2).replace([np.inf, -np.inf], 0)       \n",
    "sns.distplot(filesizes, bins=80, ax=ax)\n",
    "filesizes.sort_values()"
   ]
  },
  {
   "cell_type": "markdown",
   "metadata": {},
   "source": [
    "Notice the peculiar distribution with two peaks around 2^24 and 2^27 bytes downloads. It is possible that these are caused by multiple uploads of very similar-sized deposit, e.g. multiple versions from automatic data release systems, or more likely by the overlay of different file size distributions for different categories (dataset, software, publications). **TODO** Graph per category."
   ]
  },
  {
   "cell_type": "markdown",
   "metadata": {},
   "source": [
    "## Workflow: Listing ZIP content \n",
    "\n",
    "The workflow `code/data-gathering/workflows/zenodo-random-samples-zip-content` performs the second download task of sampling `*.zip` files to list their contained filenames. It works by a sample size per category, so that the analysis can be performed without downloading\n",
    "\n",
    "\n",
    "### Workflow overview\n",
    "\n",
    "The executed Snakemake workflow consists of rules that can be visualized using [Graphviz](https://www.graphviz.org/):\n"
   ]
  },
  {
   "cell_type": "code",
   "execution_count": 34,
   "metadata": {},
   "outputs": [
    {
     "name": "stdout",
     "output_type": "stream",
     "text": [
      "\u001b[33mBuilding DAG of jobs...\u001b[0m\r\n"
     ]
    }
   ],
   "source": [
    "!cd ../data-gathering/workflows/zenodo-random-samples-zip-content ; \\\n",
    " snakemake --rulegraph | dot -Tsvg > workflow.svg"
   ]
  },
  {
   "cell_type": "code",
   "execution_count": 35,
   "metadata": {},
   "outputs": [
    {
     "data": {
      "image/svg+xml": [
       "<svg height=\"404pt\" viewBox=\"0.00 0.00 134.00 404.00\" width=\"134pt\" xmlns=\"http://www.w3.org/2000/svg\" xmlns:xlink=\"http://www.w3.org/1999/xlink\">\n",
       "<g class=\"graph\" id=\"graph0\" transform=\"scale(1 1) rotate(0) translate(4 400)\">\n",
       "<title>snakemake_dag</title>\n",
       "<polygon fill=\"#ffffff\" points=\"-4,4 -4,-400 130,-400 130,4 -4,4\" stroke=\"transparent\"/>\n",
       "<!-- 0 -->\n",
       "<g class=\"node\" id=\"node1\">\n",
       "<title>0</title>\n",
       "<path d=\"M78,-36C78,-36 48,-36 48,-36 42,-36 36,-30 36,-24 36,-24 36,-12 36,-12 36,-6 42,0 48,0 48,0 78,0 78,0 84,0 90,-6 90,-12 90,-12 90,-24 90,-24 90,-30 84,-36 78,-36\" fill=\"none\" stroke=\"#56a2d8\" stroke-width=\"2\"/>\n",
       "<text fill=\"#000000\" font-family=\"sans\" font-size=\"10.00\" text-anchor=\"middle\" x=\"63\" y=\"-15.5\">all</text>\n",
       "</g>\n",
       "<!-- 1 -->\n",
       "<g class=\"node\" id=\"node2\">\n",
       "<title>1</title>\n",
       "<path d=\"M90,-108C90,-108 36,-108 36,-108 30,-108 24,-102 24,-96 24,-96 24,-84 24,-84 24,-78 30,-72 36,-72 36,-72 90,-72 90,-72 96,-72 102,-78 102,-84 102,-84 102,-96 102,-96 102,-102 96,-108 90,-108\" fill=\"none\" stroke=\"#d8a456\" stroke-width=\"2\"/>\n",
       "<text fill=\"#000000\" font-family=\"sans\" font-size=\"10.00\" text-anchor=\"middle\" x=\"63\" y=\"-87.5\">downloadzip</text>\n",
       "</g>\n",
       "<!-- 1&#45;&gt;0 -->\n",
       "<g class=\"edge\" id=\"edge1\">\n",
       "<title>1-&gt;0</title>\n",
       "<path d=\"M63,-71.8314C63,-64.131 63,-54.9743 63,-46.4166\" fill=\"none\" stroke=\"#c0c0c0\" stroke-width=\"2\"/>\n",
       "<polygon fill=\"#c0c0c0\" points=\"66.5001,-46.4132 63,-36.4133 59.5001,-46.4133 66.5001,-46.4132\" stroke=\"#c0c0c0\" stroke-width=\"2\"/>\n",
       "</g>\n",
       "<!-- 2 -->\n",
       "<g class=\"node\" id=\"node3\">\n",
       "<title>2</title>\n",
       "<path d=\"M80,-180C80,-180 46,-180 46,-180 40,-180 34,-174 34,-168 34,-168 34,-156 34,-156 34,-150 40,-144 46,-144 46,-144 80,-144 80,-144 86,-144 92,-150 92,-156 92,-156 92,-168 92,-168 92,-174 86,-180 80,-180\" fill=\"none\" stroke=\"#d85656\" stroke-width=\"2\"/>\n",
       "<text fill=\"#000000\" font-family=\"sans\" font-size=\"10.00\" text-anchor=\"middle\" x=\"63\" y=\"-159.5\">samples</text>\n",
       "</g>\n",
       "<!-- 2&#45;&gt;1 -->\n",
       "<g class=\"edge\" id=\"edge2\">\n",
       "<title>2-&gt;1</title>\n",
       "<path d=\"M63,-143.8314C63,-136.131 63,-126.9743 63,-118.4166\" fill=\"none\" stroke=\"#c0c0c0\" stroke-width=\"2\"/>\n",
       "<polygon fill=\"#c0c0c0\" points=\"66.5001,-118.4132 63,-108.4133 59.5001,-118.4133 66.5001,-118.4132\" stroke=\"#c0c0c0\" stroke-width=\"2\"/>\n",
       "</g>\n",
       "<!-- 3 -->\n",
       "<g class=\"node\" id=\"node4\">\n",
       "<title>3</title>\n",
       "<path d=\"M87,-252C87,-252 39,-252 39,-252 33,-252 27,-246 27,-240 27,-240 27,-228 27,-228 27,-222 33,-216 39,-216 39,-216 87,-216 87,-216 93,-216 99,-222 99,-228 99,-228 99,-240 99,-240 99,-246 93,-252 87,-252\" fill=\"none\" stroke=\"#56d8c9\" stroke-width=\"2\"/>\n",
       "<text fill=\"#000000\" font-family=\"sans\" font-size=\"10.00\" text-anchor=\"middle\" x=\"63\" y=\"-231.5\">splitzipfiles</text>\n",
       "</g>\n",
       "<!-- 3&#45;&gt;2 -->\n",
       "<g class=\"edge\" id=\"edge3\">\n",
       "<title>3-&gt;2</title>\n",
       "<path d=\"M63,-215.8314C63,-208.131 63,-198.9743 63,-190.4166\" fill=\"none\" stroke=\"#c0c0c0\" stroke-width=\"2\"/>\n",
       "<polygon fill=\"#c0c0c0\" points=\"66.5001,-190.4132 63,-180.4133 59.5001,-190.4133 66.5001,-190.4132\" stroke=\"#c0c0c0\" stroke-width=\"2\"/>\n",
       "</g>\n",
       "<!-- 4 -->\n",
       "<g class=\"node\" id=\"node5\">\n",
       "<title>4</title>\n",
       "<path d=\"M79,-324C79,-324 47,-324 47,-324 41,-324 35,-318 35,-312 35,-312 35,-300 35,-300 35,-294 41,-288 47,-288 47,-288 79,-288 79,-288 85,-288 91,-294 91,-300 91,-300 91,-312 91,-312 91,-318 85,-324 79,-324\" fill=\"none\" stroke=\"#56d87b\" stroke-width=\"2\"/>\n",
       "<text fill=\"#000000\" font-family=\"sans\" font-size=\"10.00\" text-anchor=\"middle\" x=\"63\" y=\"-303.5\">shuffled</text>\n",
       "</g>\n",
       "<!-- 4&#45;&gt;3 -->\n",
       "<g class=\"edge\" id=\"edge4\">\n",
       "<title>4-&gt;3</title>\n",
       "<path d=\"M63,-287.8314C63,-280.131 63,-270.9743 63,-262.4166\" fill=\"none\" stroke=\"#c0c0c0\" stroke-width=\"2\"/>\n",
       "<polygon fill=\"#c0c0c0\" points=\"66.5001,-262.4132 63,-252.4133 59.5001,-262.4133 66.5001,-262.4132\" stroke=\"#c0c0c0\" stroke-width=\"2\"/>\n",
       "</g>\n",
       "<!-- 5 -->\n",
       "<g class=\"node\" id=\"node6\">\n",
       "<title>5</title>\n",
       "<path d=\"M42,-396C42,-396 12,-396 12,-396 6,-396 0,-390 0,-384 0,-384 0,-372 0,-372 0,-366 6,-360 12,-360 12,-360 42,-360 42,-360 48,-360 54,-366 54,-372 54,-372 54,-384 54,-384 54,-390 48,-396 42,-396\" fill=\"none\" stroke=\"#78d856\" stroke-width=\"2\"/>\n",
       "<text fill=\"#000000\" font-family=\"sans\" font-size=\"10.00\" text-anchor=\"middle\" x=\"27\" y=\"-375.5\">zipfiles</text>\n",
       "</g>\n",
       "<!-- 5&#45;&gt;4 -->\n",
       "<g class=\"edge\" id=\"edge6\">\n",
       "<title>5-&gt;4</title>\n",
       "<path d=\"M36.0843,-359.8314C40.0615,-351.8771 44.8155,-342.369 49.2139,-333.5723\" fill=\"none\" stroke=\"#c0c0c0\" stroke-width=\"2\"/>\n",
       "<polygon fill=\"#c0c0c0\" points=\"52.4517,-334.9228 53.7934,-324.4133 46.1907,-331.7923 52.4517,-334.9228\" stroke=\"#c0c0c0\" stroke-width=\"2\"/>\n",
       "</g>\n",
       "<!-- 6 -->\n",
       "<g class=\"node\" id=\"node7\">\n",
       "<title>6</title>\n",
       "<path d=\"M114,-396C114,-396 84,-396 84,-396 78,-396 72,-390 72,-384 72,-384 72,-372 72,-372 72,-366 78,-360 84,-360 84,-360 114,-360 114,-360 120,-360 126,-366 126,-372 126,-372 126,-384 126,-384 126,-390 120,-396 114,-396\" fill=\"none\" stroke=\"#c6d856\" stroke-width=\"2\"/>\n",
       "<text fill=\"#000000\" font-family=\"sans\" font-size=\"10.00\" text-anchor=\"middle\" x=\"99\" y=\"-375.5\">seed</text>\n",
       "</g>\n",
       "<!-- 6&#45;&gt;4 -->\n",
       "<g class=\"edge\" id=\"edge5\">\n",
       "<title>6-&gt;4</title>\n",
       "<path d=\"M89.9157,-359.8314C85.9385,-351.8771 81.1845,-342.369 76.7861,-333.5723\" fill=\"none\" stroke=\"#c0c0c0\" stroke-width=\"2\"/>\n",
       "<polygon fill=\"#c0c0c0\" points=\"79.8093,-331.7923 72.2066,-324.4133 73.5483,-334.9228 79.8093,-331.7923\" stroke=\"#c0c0c0\" stroke-width=\"2\"/>\n",
       "</g>\n",
       "</g>\n",
       "</svg>"
      ],
      "text/plain": [
       "<IPython.core.display.SVG object>"
      ]
     },
     "execution_count": 35,
     "metadata": {},
     "output_type": "execute_result"
    }
   ],
   "source": [
    "from IPython.core.display import SVG\n",
    "SVG(filename='../data-gathering/workflows/zenodo-random-samples-zip-content/workflow.svg')"
   ]
  },
  {
   "cell_type": "markdown",
   "metadata": {},
   "source": [
    "The first step **zipfiles** uses [jq](https://stedolan.github.io/jq/) to create TSV files as shown above, where the file extension is `*.zip`:"
   ]
  },
  {
   "cell_type": "code",
   "execution_count": 36,
   "metadata": {},
   "outputs": [
    {
     "data": {
      "text/html": [
       "<div>\n",
       "<style scoped>\n",
       "    .dataframe tbody tr th:only-of-type {\n",
       "        vertical-align: middle;\n",
       "    }\n",
       "\n",
       "    .dataframe tbody tr th {\n",
       "        vertical-align: top;\n",
       "    }\n",
       "\n",
       "    .dataframe thead th {\n",
       "        text-align: right;\n",
       "    }\n",
       "</style>\n",
       "<table border=\"1\" class=\"dataframe\">\n",
       "  <thead>\n",
       "    <tr style=\"text-align: right;\">\n",
       "      <th></th>\n",
       "      <th>record_id</th>\n",
       "      <th>record_json</th>\n",
       "      <th>record_doi</th>\n",
       "      <th>file_checksum</th>\n",
       "      <th>file_download</th>\n",
       "      <th>file_size</th>\n",
       "      <th>file_extension</th>\n",
       "      <th>file_name</th>\n",
       "      <th>record_type</th>\n",
       "    </tr>\n",
       "  </thead>\n",
       "  <tbody>\n",
       "    <tr>\n",
       "      <th>0</th>\n",
       "      <td>7096</td>\n",
       "      <td>https://zenodo.org/api/records/7096</td>\n",
       "      <td>https://doi.org/10.5281/zenodo.7096</td>\n",
       "      <td>md5:46b5c3aab7aa3fa58e5822c9c3dbd3a7</td>\n",
       "      <td>https://zenodo.org/api/files/1b8adb97-6ffc-4ae...</td>\n",
       "      <td>105878933</td>\n",
       "      <td>zip</td>\n",
       "      <td>cyrface_v1.0.zip</td>\n",
       "      <td>publication</td>\n",
       "    </tr>\n",
       "    <tr>\n",
       "      <th>1</th>\n",
       "      <td>1000116</td>\n",
       "      <td>https://zenodo.org/api/records/1000116</td>\n",
       "      <td>https://doi.org/10.5281/zenodo.1000116</td>\n",
       "      <td>md5:765d22dbe4241c67f3b6dbacf79fc901</td>\n",
       "      <td>https://zenodo.org/api/files/36ee07d5-7c07-438...</td>\n",
       "      <td>20233334</td>\n",
       "      <td>zip</td>\n",
       "      <td>s10.zip</td>\n",
       "      <td>dataset</td>\n",
       "    </tr>\n",
       "    <tr>\n",
       "      <th>2</th>\n",
       "      <td>1000116</td>\n",
       "      <td>https://zenodo.org/api/records/1000116</td>\n",
       "      <td>https://doi.org/10.5281/zenodo.1000116</td>\n",
       "      <td>md5:bb63c22179b4a750bac2499aecd72021</td>\n",
       "      <td>https://zenodo.org/api/files/36ee07d5-7c07-438...</td>\n",
       "      <td>19462713</td>\n",
       "      <td>zip</td>\n",
       "      <td>s1.zip</td>\n",
       "      <td>dataset</td>\n",
       "    </tr>\n",
       "    <tr>\n",
       "      <th>3</th>\n",
       "      <td>1000116</td>\n",
       "      <td>https://zenodo.org/api/records/1000116</td>\n",
       "      <td>https://doi.org/10.5281/zenodo.1000116</td>\n",
       "      <td>md5:9d91c5a524123e950cd7cab3b42887ae</td>\n",
       "      <td>https://zenodo.org/api/files/36ee07d5-7c07-438...</td>\n",
       "      <td>20435979</td>\n",
       "      <td>zip</td>\n",
       "      <td>s2.zip</td>\n",
       "      <td>dataset</td>\n",
       "    </tr>\n",
       "    <tr>\n",
       "      <th>4</th>\n",
       "      <td>1000116</td>\n",
       "      <td>https://zenodo.org/api/records/1000116</td>\n",
       "      <td>https://doi.org/10.5281/zenodo.1000116</td>\n",
       "      <td>md5:700d15737cd5219cf9e9a0370670f246</td>\n",
       "      <td>https://zenodo.org/api/files/36ee07d5-7c07-438...</td>\n",
       "      <td>22098551</td>\n",
       "      <td>zip</td>\n",
       "      <td>s3.zip</td>\n",
       "      <td>dataset</td>\n",
       "    </tr>\n",
       "    <tr>\n",
       "      <th>...</th>\n",
       "      <td>...</td>\n",
       "      <td>...</td>\n",
       "      <td>...</td>\n",
       "      <td>...</td>\n",
       "      <td>...</td>\n",
       "      <td>...</td>\n",
       "      <td>...</td>\n",
       "      <td>...</td>\n",
       "      <td>...</td>\n",
       "    </tr>\n",
       "    <tr>\n",
       "      <th>124746</th>\n",
       "      <td>2924309</td>\n",
       "      <td>https://zenodo.org/api/records/2924309</td>\n",
       "      <td>https://doi.org/10.5281/zenodo.2924309</td>\n",
       "      <td>md5:9a92c2a2d30e55563510fe2b9c095cf2</td>\n",
       "      <td>https://zenodo.org/api/files/a46d8084-6d3e-441...</td>\n",
       "      <td>2110162</td>\n",
       "      <td>zip</td>\n",
       "      <td>oso_tg_2015_182_to_2016_182.zip</td>\n",
       "      <td>dataset</td>\n",
       "    </tr>\n",
       "    <tr>\n",
       "      <th>124747</th>\n",
       "      <td>2483402</td>\n",
       "      <td>https://zenodo.org/api/records/2483402</td>\n",
       "      <td>https://doi.org/10.5281/zenodo.2483402</td>\n",
       "      <td>md5:4957f57293acab97034caa4c33b21dab</td>\n",
       "      <td>https://zenodo.org/api/files/b613706f-7ee2-4d9...</td>\n",
       "      <td>102194301</td>\n",
       "      <td>zip</td>\n",
       "      <td>Data.zip</td>\n",
       "      <td>dataset</td>\n",
       "    </tr>\n",
       "    <tr>\n",
       "      <th>124748</th>\n",
       "      <td>2525460</td>\n",
       "      <td>https://zenodo.org/api/records/2525460</td>\n",
       "      <td>https://doi.org/10.5281/zenodo.2525460</td>\n",
       "      <td>md5:3210020de6c56cc12a70de68f0b5528a</td>\n",
       "      <td>https://zenodo.org/api/files/06474150-e58f-412...</td>\n",
       "      <td>652482</td>\n",
       "      <td>zip</td>\n",
       "      <td>NorthernWidget-Skunkworks/Project-Tally-v0.1.zip</td>\n",
       "      <td>software</td>\n",
       "    </tr>\n",
       "    <tr>\n",
       "      <th>124749</th>\n",
       "      <td>2525534</td>\n",
       "      <td>https://zenodo.org/api/records/2525534</td>\n",
       "      <td>https://doi.org/10.5281/zenodo.2525534</td>\n",
       "      <td>md5:2760f5ef4d4f573893e4ec30104a6c6d</td>\n",
       "      <td>https://zenodo.org/api/files/7d610f61-a62f-45c...</td>\n",
       "      <td>66443</td>\n",
       "      <td>zip</td>\n",
       "      <td>r-barnes/Barnes2019-Landscape-v1.0.1.zip</td>\n",
       "      <td>software</td>\n",
       "    </tr>\n",
       "    <tr>\n",
       "      <th>124750</th>\n",
       "      <td>2988127</td>\n",
       "      <td>https://zenodo.org/api/records/2988127</td>\n",
       "      <td>https://doi.org/10.5281/zenodo.2988127</td>\n",
       "      <td>md5:b23a44a97e59b9e002160753ab8219be</td>\n",
       "      <td>https://zenodo.org/api/files/9801ade4-6dbd-4e0...</td>\n",
       "      <td>28913</td>\n",
       "      <td>zip</td>\n",
       "      <td>thimic/twicorder-search-v.0.2.7.zip</td>\n",
       "      <td>software</td>\n",
       "    </tr>\n",
       "  </tbody>\n",
       "</table>\n",
       "<p>124751 rows × 9 columns</p>\n",
       "</div>"
      ],
      "text/plain": [
       "        record_id                             record_json  \\\n",
       "0            7096     https://zenodo.org/api/records/7096   \n",
       "1         1000116  https://zenodo.org/api/records/1000116   \n",
       "2         1000116  https://zenodo.org/api/records/1000116   \n",
       "3         1000116  https://zenodo.org/api/records/1000116   \n",
       "4         1000116  https://zenodo.org/api/records/1000116   \n",
       "...           ...                                     ...   \n",
       "124746    2924309  https://zenodo.org/api/records/2924309   \n",
       "124747    2483402  https://zenodo.org/api/records/2483402   \n",
       "124748    2525460  https://zenodo.org/api/records/2525460   \n",
       "124749    2525534  https://zenodo.org/api/records/2525534   \n",
       "124750    2988127  https://zenodo.org/api/records/2988127   \n",
       "\n",
       "                                    record_doi  \\\n",
       "0          https://doi.org/10.5281/zenodo.7096   \n",
       "1       https://doi.org/10.5281/zenodo.1000116   \n",
       "2       https://doi.org/10.5281/zenodo.1000116   \n",
       "3       https://doi.org/10.5281/zenodo.1000116   \n",
       "4       https://doi.org/10.5281/zenodo.1000116   \n",
       "...                                        ...   \n",
       "124746  https://doi.org/10.5281/zenodo.2924309   \n",
       "124747  https://doi.org/10.5281/zenodo.2483402   \n",
       "124748  https://doi.org/10.5281/zenodo.2525460   \n",
       "124749  https://doi.org/10.5281/zenodo.2525534   \n",
       "124750  https://doi.org/10.5281/zenodo.2988127   \n",
       "\n",
       "                               file_checksum  \\\n",
       "0       md5:46b5c3aab7aa3fa58e5822c9c3dbd3a7   \n",
       "1       md5:765d22dbe4241c67f3b6dbacf79fc901   \n",
       "2       md5:bb63c22179b4a750bac2499aecd72021   \n",
       "3       md5:9d91c5a524123e950cd7cab3b42887ae   \n",
       "4       md5:700d15737cd5219cf9e9a0370670f246   \n",
       "...                                      ...   \n",
       "124746  md5:9a92c2a2d30e55563510fe2b9c095cf2   \n",
       "124747  md5:4957f57293acab97034caa4c33b21dab   \n",
       "124748  md5:3210020de6c56cc12a70de68f0b5528a   \n",
       "124749  md5:2760f5ef4d4f573893e4ec30104a6c6d   \n",
       "124750  md5:b23a44a97e59b9e002160753ab8219be   \n",
       "\n",
       "                                            file_download  file_size  \\\n",
       "0       https://zenodo.org/api/files/1b8adb97-6ffc-4ae...  105878933   \n",
       "1       https://zenodo.org/api/files/36ee07d5-7c07-438...   20233334   \n",
       "2       https://zenodo.org/api/files/36ee07d5-7c07-438...   19462713   \n",
       "3       https://zenodo.org/api/files/36ee07d5-7c07-438...   20435979   \n",
       "4       https://zenodo.org/api/files/36ee07d5-7c07-438...   22098551   \n",
       "...                                                   ...        ...   \n",
       "124746  https://zenodo.org/api/files/a46d8084-6d3e-441...    2110162   \n",
       "124747  https://zenodo.org/api/files/b613706f-7ee2-4d9...  102194301   \n",
       "124748  https://zenodo.org/api/files/06474150-e58f-412...     652482   \n",
       "124749  https://zenodo.org/api/files/7d610f61-a62f-45c...      66443   \n",
       "124750  https://zenodo.org/api/files/9801ade4-6dbd-4e0...      28913   \n",
       "\n",
       "       file_extension                                         file_name  \\\n",
       "0                 zip                                  cyrface_v1.0.zip   \n",
       "1                 zip                                           s10.zip   \n",
       "2                 zip                                            s1.zip   \n",
       "3                 zip                                            s2.zip   \n",
       "4                 zip                                            s3.zip   \n",
       "...               ...                                               ...   \n",
       "124746            zip                   oso_tg_2015_182_to_2016_182.zip   \n",
       "124747            zip                                          Data.zip   \n",
       "124748            zip  NorthernWidget-Skunkworks/Project-Tally-v0.1.zip   \n",
       "124749            zip          r-barnes/Barnes2019-Landscape-v1.0.1.zip   \n",
       "124750            zip               thimic/twicorder-search-v.0.2.7.zip   \n",
       "\n",
       "        record_type  \n",
       "0       publication  \n",
       "1           dataset  \n",
       "2           dataset  \n",
       "3           dataset  \n",
       "4           dataset  \n",
       "...             ...  \n",
       "124746      dataset  \n",
       "124747      dataset  \n",
       "124748     software  \n",
       "124749     software  \n",
       "124750     software  \n",
       "\n",
       "[124751 rows x 9 columns]"
      ]
     },
     "execution_count": 36,
     "metadata": {},
     "output_type": "execute_result"
    }
   ],
   "source": [
    "zipfiles = pd.read_table(\"data/zenodo-records/zipfiles.tsv\", header=None, names=header)\n",
    "zipfiles"
   ]
  },
  {
   "cell_type": "markdown",
   "metadata": {},
   "source": [
    "The **shuffled** step does a random shuffle of the rows, but using the `seed` file as random data source for reproducibility (a new source will be recreated by **seed** if missing)."
   ]
  },
  {
   "cell_type": "code",
   "execution_count": 37,
   "metadata": {},
   "outputs": [
    {
     "data": {
      "text/html": [
       "<div>\n",
       "<style scoped>\n",
       "    .dataframe tbody tr th:only-of-type {\n",
       "        vertical-align: middle;\n",
       "    }\n",
       "\n",
       "    .dataframe tbody tr th {\n",
       "        vertical-align: top;\n",
       "    }\n",
       "\n",
       "    .dataframe thead th {\n",
       "        text-align: right;\n",
       "    }\n",
       "</style>\n",
       "<table border=\"1\" class=\"dataframe\">\n",
       "  <thead>\n",
       "    <tr style=\"text-align: right;\">\n",
       "      <th></th>\n",
       "      <th>record_id</th>\n",
       "      <th>record_json</th>\n",
       "      <th>record_doi</th>\n",
       "      <th>file_checksum</th>\n",
       "      <th>file_download</th>\n",
       "      <th>file_size</th>\n",
       "      <th>file_extension</th>\n",
       "      <th>file_name</th>\n",
       "      <th>record_type</th>\n",
       "    </tr>\n",
       "  </thead>\n",
       "  <tbody>\n",
       "    <tr>\n",
       "      <th>0</th>\n",
       "      <td>3245891</td>\n",
       "      <td>https://zenodo.org/api/records/3245891</td>\n",
       "      <td>https://doi.org/10.5281/zenodo.3245891</td>\n",
       "      <td>md5:7ab1b77dbe36b089c4935f971c1d8709</td>\n",
       "      <td>https://zenodo.org/api/files/95f173d2-c1ab-49b...</td>\n",
       "      <td>165373381</td>\n",
       "      <td>zip</td>\n",
       "      <td>foehntjan8110.zip</td>\n",
       "      <td>dataset</td>\n",
       "    </tr>\n",
       "    <tr>\n",
       "      <th>1</th>\n",
       "      <td>3364804</td>\n",
       "      <td>https://zenodo.org/api/records/3364804</td>\n",
       "      <td>https://doi.org/10.5281/zenodo.3364804</td>\n",
       "      <td>md5:2e36797b3c1d9cf525736ca17a2e12ab</td>\n",
       "      <td>https://zenodo.org/api/files/d4a0dac4-9012-4f4...</td>\n",
       "      <td>6577603</td>\n",
       "      <td>zip</td>\n",
       "      <td>gnuradio/gnuradio-v3.8.0.0.zip</td>\n",
       "      <td>software</td>\n",
       "    </tr>\n",
       "    <tr>\n",
       "      <th>2</th>\n",
       "      <td>848081</td>\n",
       "      <td>https://zenodo.org/api/records/848081</td>\n",
       "      <td>https://doi.org/10.1145/2851141.2851148</td>\n",
       "      <td>md5:8b9963e6404cc026c381057c40962957</td>\n",
       "      <td>https://zenodo.org/api/files/7ff6c078-21d7-435...</td>\n",
       "      <td>19500731</td>\n",
       "      <td>zip</td>\n",
       "      <td>Exp.zip</td>\n",
       "      <td>publication</td>\n",
       "    </tr>\n",
       "    <tr>\n",
       "      <th>3</th>\n",
       "      <td>556985</td>\n",
       "      <td>https://zenodo.org/api/records/556985</td>\n",
       "      <td>https://doi.org/10.5281/zenodo.556985</td>\n",
       "      <td>md5:6e1c0df86d351a313eb94df32a1b7fc2</td>\n",
       "      <td>https://zenodo.org/api/files/2767ef6d-3bfd-434...</td>\n",
       "      <td>179393377</td>\n",
       "      <td>zip</td>\n",
       "      <td>OpenGreekAndLatin/First1KGreek-1.1.63.zip</td>\n",
       "      <td>software</td>\n",
       "    </tr>\n",
       "    <tr>\n",
       "      <th>4</th>\n",
       "      <td>806739</td>\n",
       "      <td>https://zenodo.org/api/records/806739</td>\n",
       "      <td>https://doi.org/10.5281/zenodo.806739</td>\n",
       "      <td>md5:df9758f35c03bc45de2fcd218b49d456</td>\n",
       "      <td>https://zenodo.org/api/files/601ddc8d-f338-429...</td>\n",
       "      <td>175858</td>\n",
       "      <td>zip</td>\n",
       "      <td>tabular-model-src.zip</td>\n",
       "      <td>software</td>\n",
       "    </tr>\n",
       "    <tr>\n",
       "      <th>...</th>\n",
       "      <td>...</td>\n",
       "      <td>...</td>\n",
       "      <td>...</td>\n",
       "      <td>...</td>\n",
       "      <td>...</td>\n",
       "      <td>...</td>\n",
       "      <td>...</td>\n",
       "      <td>...</td>\n",
       "      <td>...</td>\n",
       "    </tr>\n",
       "    <tr>\n",
       "      <th>124746</th>\n",
       "      <td>1027997</td>\n",
       "      <td>https://zenodo.org/api/records/1027997</td>\n",
       "      <td>https://doi.org/10.5281/zenodo.1027997</td>\n",
       "      <td>md5:9fafda2e266ca66d9b563ad1a5423110</td>\n",
       "      <td>https://zenodo.org/api/files/2102027f-53f0-4e9...</td>\n",
       "      <td>14601979</td>\n",
       "      <td>zip</td>\n",
       "      <td>egl-20 (mu39)IV on food L_2010_07_16__11_24___...</td>\n",
       "      <td>dataset</td>\n",
       "    </tr>\n",
       "    <tr>\n",
       "      <th>124747</th>\n",
       "      <td>45837</td>\n",
       "      <td>https://zenodo.org/api/records/45837</td>\n",
       "      <td>https://doi.org/10.5281/zenodo.45837</td>\n",
       "      <td>md5:4d9be07bc68eda5dde53ac67918700e6</td>\n",
       "      <td>https://zenodo.org/api/files/2b8f17b7-b711-447...</td>\n",
       "      <td>87444828</td>\n",
       "      <td>zip</td>\n",
       "      <td>TURNO2_DEB_RECORD_19102014.zip</td>\n",
       "      <td>dataset</td>\n",
       "    </tr>\n",
       "    <tr>\n",
       "      <th>124748</th>\n",
       "      <td>31742</td>\n",
       "      <td>https://zenodo.org/api/records/31742</td>\n",
       "      <td>https://doi.org/10.5281/zenodo.31742</td>\n",
       "      <td>md5:c4bbd596b956fb746a64cb65b58791b2</td>\n",
       "      <td>https://zenodo.org/api/files/f3c7751f-273c-477...</td>\n",
       "      <td>544611</td>\n",
       "      <td>zip</td>\n",
       "      <td>dispRity-v.0.1.zip</td>\n",
       "      <td>software</td>\n",
       "    </tr>\n",
       "    <tr>\n",
       "      <th>124749</th>\n",
       "      <td>2669187</td>\n",
       "      <td>https://zenodo.org/api/records/2669187</td>\n",
       "      <td>https://doi.org/10.5281/zenodo.2669187</td>\n",
       "      <td>md5:3d3221fc0cb50d86a52f0b1ead0a998e</td>\n",
       "      <td>https://zenodo.org/api/files/d1906547-b36f-45b...</td>\n",
       "      <td>125608779</td>\n",
       "      <td>zip</td>\n",
       "      <td>subject01_session06.zip</td>\n",
       "      <td>dataset</td>\n",
       "    </tr>\n",
       "    <tr>\n",
       "      <th>124750</th>\n",
       "      <td>2667815</td>\n",
       "      <td>https://zenodo.org/api/records/2667815</td>\n",
       "      <td>https://doi.org/10.5281/zenodo.2667815</td>\n",
       "      <td>md5:b9795f1bc4fb3a3b7ac88d716742dbda</td>\n",
       "      <td>https://zenodo.org/api/files/14463888-d526-451...</td>\n",
       "      <td>41973661</td>\n",
       "      <td>zip</td>\n",
       "      <td>yardencsGitHub/tweetynet-0.1.1a3.zip</td>\n",
       "      <td>software</td>\n",
       "    </tr>\n",
       "  </tbody>\n",
       "</table>\n",
       "<p>124751 rows × 9 columns</p>\n",
       "</div>"
      ],
      "text/plain": [
       "        record_id                             record_json  \\\n",
       "0         3245891  https://zenodo.org/api/records/3245891   \n",
       "1         3364804  https://zenodo.org/api/records/3364804   \n",
       "2          848081   https://zenodo.org/api/records/848081   \n",
       "3          556985   https://zenodo.org/api/records/556985   \n",
       "4          806739   https://zenodo.org/api/records/806739   \n",
       "...           ...                                     ...   \n",
       "124746    1027997  https://zenodo.org/api/records/1027997   \n",
       "124747      45837    https://zenodo.org/api/records/45837   \n",
       "124748      31742    https://zenodo.org/api/records/31742   \n",
       "124749    2669187  https://zenodo.org/api/records/2669187   \n",
       "124750    2667815  https://zenodo.org/api/records/2667815   \n",
       "\n",
       "                                     record_doi  \\\n",
       "0        https://doi.org/10.5281/zenodo.3245891   \n",
       "1        https://doi.org/10.5281/zenodo.3364804   \n",
       "2       https://doi.org/10.1145/2851141.2851148   \n",
       "3         https://doi.org/10.5281/zenodo.556985   \n",
       "4         https://doi.org/10.5281/zenodo.806739   \n",
       "...                                         ...   \n",
       "124746   https://doi.org/10.5281/zenodo.1027997   \n",
       "124747     https://doi.org/10.5281/zenodo.45837   \n",
       "124748     https://doi.org/10.5281/zenodo.31742   \n",
       "124749   https://doi.org/10.5281/zenodo.2669187   \n",
       "124750   https://doi.org/10.5281/zenodo.2667815   \n",
       "\n",
       "                               file_checksum  \\\n",
       "0       md5:7ab1b77dbe36b089c4935f971c1d8709   \n",
       "1       md5:2e36797b3c1d9cf525736ca17a2e12ab   \n",
       "2       md5:8b9963e6404cc026c381057c40962957   \n",
       "3       md5:6e1c0df86d351a313eb94df32a1b7fc2   \n",
       "4       md5:df9758f35c03bc45de2fcd218b49d456   \n",
       "...                                      ...   \n",
       "124746  md5:9fafda2e266ca66d9b563ad1a5423110   \n",
       "124747  md5:4d9be07bc68eda5dde53ac67918700e6   \n",
       "124748  md5:c4bbd596b956fb746a64cb65b58791b2   \n",
       "124749  md5:3d3221fc0cb50d86a52f0b1ead0a998e   \n",
       "124750  md5:b9795f1bc4fb3a3b7ac88d716742dbda   \n",
       "\n",
       "                                            file_download  file_size  \\\n",
       "0       https://zenodo.org/api/files/95f173d2-c1ab-49b...  165373381   \n",
       "1       https://zenodo.org/api/files/d4a0dac4-9012-4f4...    6577603   \n",
       "2       https://zenodo.org/api/files/7ff6c078-21d7-435...   19500731   \n",
       "3       https://zenodo.org/api/files/2767ef6d-3bfd-434...  179393377   \n",
       "4       https://zenodo.org/api/files/601ddc8d-f338-429...     175858   \n",
       "...                                                   ...        ...   \n",
       "124746  https://zenodo.org/api/files/2102027f-53f0-4e9...   14601979   \n",
       "124747  https://zenodo.org/api/files/2b8f17b7-b711-447...   87444828   \n",
       "124748  https://zenodo.org/api/files/f3c7751f-273c-477...     544611   \n",
       "124749  https://zenodo.org/api/files/d1906547-b36f-45b...  125608779   \n",
       "124750  https://zenodo.org/api/files/14463888-d526-451...   41973661   \n",
       "\n",
       "       file_extension                                          file_name  \\\n",
       "0                 zip                                  foehntjan8110.zip   \n",
       "1                 zip                     gnuradio/gnuradio-v3.8.0.0.zip   \n",
       "2                 zip                                            Exp.zip   \n",
       "3                 zip          OpenGreekAndLatin/First1KGreek-1.1.63.zip   \n",
       "4                 zip                              tabular-model-src.zip   \n",
       "...               ...                                                ...   \n",
       "124746            zip  egl-20 (mu39)IV on food L_2010_07_16__11_24___...   \n",
       "124747            zip                     TURNO2_DEB_RECORD_19102014.zip   \n",
       "124748            zip                                 dispRity-v.0.1.zip   \n",
       "124749            zip                            subject01_session06.zip   \n",
       "124750            zip               yardencsGitHub/tweetynet-0.1.1a3.zip   \n",
       "\n",
       "        record_type  \n",
       "0           dataset  \n",
       "1          software  \n",
       "2       publication  \n",
       "3          software  \n",
       "4          software  \n",
       "...             ...  \n",
       "124746      dataset  \n",
       "124747      dataset  \n",
       "124748     software  \n",
       "124749      dataset  \n",
       "124750     software  \n",
       "\n",
       "[124751 rows x 9 columns]"
      ]
     },
     "execution_count": 37,
     "metadata": {},
     "output_type": "execute_result"
    }
   ],
   "source": [
    "shuffled = pd.read_table(\"data/zenodo-records/zipfiles-shuffled.tsv\", header=None, names=header)\n",
    "shuffled"
   ]
  },
  {
   "cell_type": "markdown",
   "metadata": {},
   "source": [
    "The shuffled file is then split into `zipfiles-dataset.tsv`, `zipfiles-software.tsv` and `zipfiles-others.tsv` (?) by **splitzipfiles**."
   ]
  },
  {
   "cell_type": "code",
   "execution_count": 38,
   "metadata": {},
   "outputs": [
    {
     "name": "stdout",
     "output_type": "stream",
     "text": [
      "files-extensions.txt  zipfiles-dataset.tsv  zipfiles-shuffled.tsv  zipfiles.tsv\r\n",
      "files.tsv.gz\t      zipfiles-others.tsv   zipfiles-software.tsv\r\n"
     ]
    }
   ],
   "source": [
    "!ls data/zenodo-records"
   ]
  },
  {
   "cell_type": "markdown",
   "metadata": {},
   "source": [
    "The step **samples** then picks the configured number of `MAXSAMPLES` (2000) from each of the category TSV files, which are split into individual files per row using [GNU Coreutils split](https://www.gnu.org/software/coreutils/manual/html_node/split-invocation.html). Note that the filenames are generated alphabetically by `split`, as the category TSV files are pre-shuffled this simply selects the first 2000 lines from each."
   ]
  },
  {
   "cell_type": "code",
   "execution_count": 39,
   "metadata": {},
   "outputs": [
    {
     "name": "stdout",
     "output_type": "stream",
     "text": [
      "5000\r\n"
     ]
    }
   ],
   "source": [
    "!ls data/dataset/sample | wc -l"
   ]
  },
  {
   "cell_type": "code",
   "execution_count": 43,
   "metadata": {},
   "outputs": [
    {
     "name": "stdout",
     "output_type": "stream",
     "text": [
      "wd.tsv\tzave.tsv  zbtf.tsv  zcrg.tsv  zdph.tsv\tzeni.tsv  zflj.tsv  zgjk.tsv\r\n",
      "we.tsv\tzavf.tsv  zbtg.tsv  zcrh.tsv  zdpi.tsv\tzenj.tsv  zflk.tsv  zgjl.tsv\r\n",
      "wf.tsv\tzavg.tsv  zbth.tsv  zcri.tsv  zdpj.tsv\tzenk.tsv  zfll.tsv  zgjm.tsv\r\n",
      "wg.tsv\tzavh.tsv  zbti.tsv  zcrj.tsv  zdpk.tsv\tzenl.tsv  zflm.tsv  zgjn.tsv\r\n",
      "wh.tsv\tzavi.tsv  zbtj.tsv  zcrk.tsv  zdpl.tsv\tzenm.tsv  zfln.tsv  zgjo.tsv\r\n",
      "wi.tsv\tzavj.tsv  zbtk.tsv  zcrl.tsv  zdpm.tsv\tzenn.tsv  zflo.tsv  zgjp.tsv\r\n",
      "wj.tsv\tzavk.tsv  zbtl.tsv  zcrm.tsv  zdpn.tsv\tzeno.tsv  zflp.tsv  zgjq.tsv\r\n",
      "wk.tsv\tzavl.tsv  zbtm.tsv  zcrn.tsv  zdpo.tsv\tzenp.tsv  zflq.tsv  zgjr.tsv\r\n",
      "wl.tsv\tzavm.tsv  zbtn.tsv  zcro.tsv  zdpp.tsv\tzenq.tsv  zflr.tsv  zgjs.tsv\r\n",
      "wm.tsv\tzavn.tsv  zbto.tsv  zcrp.tsv  zdpq.tsv\tzenr.tsv  zfls.tsv  zgjt.tsv\r\n",
      "wn.tsv\tzavo.tsv  zbtp.tsv  zcrq.tsv  zdpr.tsv\tzens.tsv  zflt.tsv  zgju.tsv\r\n",
      "wo.tsv\tzavp.tsv  zbtq.tsv  zcrr.tsv  zdps.tsv\tzent.tsv  zflu.tsv  zgjv.tsv\r\n",
      "wp.tsv\tzavq.tsv  zbtr.tsv  zcrs.tsv  zdpt.tsv\tzenu.tsv  zflv.tsv  zgjw.tsv\r\n",
      "wq.tsv\tzavr.tsv  zbts.tsv  zcrt.tsv  zdpu.tsv\tzenv.tsv  zflw.tsv  zgjx.tsv\r\n",
      "wr.tsv\tzavs.tsv  zbtt.tsv  zcru.tsv  zdpv.tsv\tzenw.tsv  zflx.tsv  zgjy.tsv\r\n",
      "ws.tsv\tzavt.tsv  zbtu.tsv  zcrv.tsv  zdpw.tsv\tzenx.tsv  zfly.tsv  zgjz.tsv\r\n",
      "wt.tsv\tzavu.tsv  zbtv.tsv  zcrw.tsv  zdpx.tsv\tzeny.tsv  zflz.tsv  zgka.tsv\r\n",
      "wu.tsv\tzavv.tsv  zbtw.tsv  zcrx.tsv  zdpy.tsv\tzenz.tsv  zfma.tsv  zgkb.tsv\r\n",
      "wv.tsv\tzavw.tsv  zbtx.tsv  zcry.tsv  zdpz.tsv\tzeoa.tsv  zfmb.tsv  zgkc.tsv\r\n",
      "ww.tsv\tzavx.tsv  zbty.tsv  zcrz.tsv  zdqa.tsv\tzeob.tsv  zfmc.tsv  zgkd.tsv\r\n",
      "wx.tsv\tzavy.tsv  zbtz.tsv  zcsa.tsv  zdqb.tsv\tzeoc.tsv  zfmd.tsv  zgke.tsv\r\n",
      "wy.tsv\tzavz.tsv  zbua.tsv  zcsb.tsv  zdqc.tsv\tzeod.tsv  zfme.tsv  zgkf.tsv\r\n",
      "wz.tsv\tzawa.tsv  zbub.tsv  zcsc.tsv  zdqd.tsv\tzeoe.tsv  zfmf.tsv  zgkg.tsv\r\n",
      "xa.tsv\tzawb.tsv  zbuc.tsv  zcsd.tsv  zdqe.tsv\tzeof.tsv  zfmg.tsv  zgkh.tsv\r\n",
      "xb.tsv\tzawc.tsv  zbud.tsv  zcse.tsv  zdqf.tsv\tzeog.tsv  zfmh.tsv  zgki.tsv\r\n",
      "xc.tsv\tzawd.tsv  zbue.tsv  zcsf.tsv  zdqg.tsv\tzeoh.tsv  zfmi.tsv  zgkj.tsv\r\n",
      "xd.tsv\tzawe.tsv  zbuf.tsv  zcsg.tsv  zdqh.tsv\tzeoi.tsv  zfmj.tsv  zgkk.tsv\r\n",
      "xe.tsv\tzawf.tsv  zbug.tsv  zcsh.tsv  zdqi.tsv\tzeoj.tsv  zfmk.tsv  zgkl.tsv\r\n",
      "xf.tsv\tzawg.tsv  zbuh.tsv  zcsi.tsv  zdqj.tsv\tzeok.tsv  zfml.tsv  zgkm.tsv\r\n",
      "xg.tsv\tzawh.tsv  zbui.tsv  zcsj.tsv  zdqk.tsv\tzeol.tsv  zfmm.tsv  zgkn.tsv\r\n",
      "xh.tsv\tzawi.tsv  zbuj.tsv  zcsk.tsv  zdql.tsv\tzeom.tsv  zfmn.tsv  zgko.tsv\r\n",
      "xi.tsv\tzawj.tsv  zbuk.tsv  zcsl.tsv  zdqm.tsv\tzeon.tsv  zfmo.tsv  zgkp.tsv\r\n",
      "xj.tsv\tzawk.tsv  zbul.tsv  zcsm.tsv  zdqn.tsv\tzeoo.tsv  zfmp.tsv  zgkq.tsv\r\n",
      "xk.tsv\tzawl.tsv  zbum.tsv  zcsn.tsv  zdqo.tsv\tzeop.tsv  zfmq.tsv  zgkr.tsv\r\n",
      "xl.tsv\tzawm.tsv  zbun.tsv  zcso.tsv  zdqp.tsv\tzeoq.tsv  zfmr.tsv  zgks.tsv\r\n",
      "xm.tsv\tzawn.tsv  zbuo.tsv  zcsp.tsv  zdqq.tsv\tzeor.tsv  zfms.tsv  zgkt.tsv\r\n",
      "xn.tsv\tzawo.tsv  zbup.tsv  zcsq.tsv  zdqr.tsv\tzeos.tsv  zfmt.tsv  zgku.tsv\r\n",
      "xo.tsv\tzawp.tsv  zbuq.tsv  zcsr.tsv  zdqs.tsv\tzeot.tsv  zfmu.tsv  zgkv.tsv\r\n",
      "xp.tsv\tzawq.tsv  zbur.tsv  zcss.tsv  zdqt.tsv\tzeou.tsv  zfmv.tsv  zgkw.tsv\r\n",
      "xq.tsv\tzawr.tsv  zbus.tsv  zcst.tsv  zdqu.tsv\tzeov.tsv  zfmw.tsv  zgkx.tsv\r\n",
      "xr.tsv\tzaws.tsv  zbut.tsv  zcsu.tsv  zdqv.tsv\tzeow.tsv  zfmx.tsv  zgky.tsv\r\n",
      "xs.tsv\tzawt.tsv  zbuu.tsv  zcsv.tsv  zdqw.tsv\tzeox.tsv  zfmy.tsv  zgkz.tsv\r\n",
      "xt.tsv\tzawu.tsv  zbuv.tsv  zcsw.tsv  zdqx.tsv\tzeoy.tsv  zfmz.tsv  zgla.tsv\r\n",
      "xu.tsv\tzawv.tsv  zbuw.tsv  zcsx.tsv  zdqy.tsv\tzeoz.tsv  zfna.tsv  zglb.tsv\r\n",
      "xv.tsv\tzaww.tsv  zbux.tsv  zcsy.tsv  zdqz.tsv\tzepa.tsv  zfnb.tsv  zglc.tsv\r\n",
      "xw.tsv\tzawx.tsv  zbuy.tsv  zcsz.tsv  zdra.tsv\tzepb.tsv  zfnc.tsv  zgld.tsv\r\n",
      "xx.tsv\tzawy.tsv  zbuz.tsv  zcta.tsv  zdrb.tsv\tzepc.tsv  zfnd.tsv  zgle.tsv\r\n",
      "xy.tsv\tzawz.tsv  zbva.tsv  zctb.tsv  zdrc.tsv\tzepd.tsv  zfne.tsv  zglf.tsv\r\n",
      "xz.tsv\tzaxa.tsv  zbvb.tsv  zctc.tsv  zdrd.tsv\tzepe.tsv  zfnf.tsv  zglg.tsv\r\n",
      "ya.tsv\tzaxb.tsv  zbvc.tsv  zctd.tsv  zdre.tsv\tzepf.tsv  zfng.tsv  zglh.tsv\r\n"
     ]
    }
   ],
   "source": [
    "!ls -C data/dataset/sample | tail -n50"
   ]
  },
  {
   "cell_type": "code",
   "execution_count": 44,
   "metadata": {},
   "outputs": [
    {
     "name": "stdout",
     "output_type": "stream",
     "text": [
      "1971811\thttps://zenodo.org/api/records/1971811\thttps://doi.org/10.5281/zenodo.1971811\tmd5:bfe10bd27be1104be6bdf6f13bbd82e3\thttps://zenodo.org/api/files/989d22b1-0562-4095-a3a7-2ee27b6b9078/Figure7.zip\t85714666\tzip\tFigure7.zip\tdataset\r\n"
     ]
    }
   ],
   "source": [
    "!cat data/dataset/sample/zapf.tsv"
   ]
  },
  {
   "cell_type": "markdown",
   "metadata": {},
   "source": [
    "The step **downloadzip** then for each sample downloads the zip file from the `file_download` column, and produces a corresponding `listing` showing the filenames and paths contained in the ZIP: \n",
    "\n"
   ]
  },
  {
   "cell_type": "code",
   "execution_count": 45,
   "metadata": {},
   "outputs": [
    {
     "name": "stdout",
     "output_type": "stream",
     "text": [
      "comsol_simulation_file_fig7a.mph\r\n",
      "._comsol_simulation_file_fig7a.mph\r\n",
      "comsol_simulation_file_fig7b,c.mph\r\n",
      "._comsol_simulation_file_fig7b,c.mph\r\n",
      "data_fig7b.csv\r\n",
      "._data_fig7b.csv\r\n",
      "fig_7b_plot_data.ipynb\r\n",
      "._fig_7b_plot_data.ipynb\r\n"
     ]
    }
   ],
   "source": [
    "!cat data/dataset/listing/zapf.txt"
   ]
  },
  {
   "cell_type": "markdown",
   "metadata": {},
   "source": [
    "The ZIP file is deleted after each download, but as multiple downloads can happen simultanously and the largest files are over 100 GB, at least 0.5 TB should be free when executing."
   ]
  },
  {
   "cell_type": "markdown",
   "metadata": {},
   "source": [
    "## Common filenames\n",
    "\n",
    "In this part of the analysis we'll concatinate the file listings to look for common filenames. The assumption is that if an archive contains a manifest or structured metadata file, it will have a fixed filename, or at least a known metadata extension.\n",
    "\n",
    "\n"
   ]
  },
  {
   "cell_type": "code",
   "execution_count": 46,
   "metadata": {},
   "outputs": [],
   "source": [
    "! for cat in dataset software others ; do \\\n",
    "    find data/$cat/listing/ -type f | xargs cat > data/$cat/listing.txt ; done"
   ]
  },
  {
   "cell_type": "code",
   "execution_count": 49,
   "metadata": {},
   "outputs": [
    {
     "name": "stdout",
     "output_type": "stream",
     "text": [
      "  3615120 data/dataset/listing.txt\n",
      "  3923038 data/others/listing.txt\n",
      "  1410814 data/software/listing.txt\n",
      "  8948972 total\n"
     ]
    }
   ],
   "source": [
    "! wc -l data/*/listing.txt"
   ]
  },
  {
   "cell_type": "markdown",
   "metadata": {},
   "source": [
    "#### Most common filenames in dataset ZIP archives\n",
    "\n",
    "Ignoring paths (anything before last `/`), what are the 30 most common filenames?"
   ]
  },
  {
   "cell_type": "code",
   "execution_count": 50,
   "metadata": {},
   "outputs": [
    {
     "name": "stdout",
     "output_type": "stream",
     "text": [
      "    741 cluster9.txt\r\n",
      "    756 cluster8.txt\r\n",
      "    780 cluster7.txt\r\n",
      "    840 run.err\r\n",
      "    930 cluster6.txt\r\n",
      "   1029 cluster5.txt\r\n",
      "   1119 cluster4.txt\r\n",
      "   1168 package.html\r\n",
      "   1239 cluster3.txt\r\n",
      "   1323 cluster2.txt\r\n",
      "   1382 BasicTest.java\r\n",
      "   1395 cluster1.txt\r\n",
      "   1666 ApplicationTest.java\r\n",
      "   2000 replay.db\r\n",
      "   3152 fitted.pkl\r\n",
      "   3288 log.txt\r\n",
      "   4339 AppTest.java\r\n",
      "   8490 igkj.fasta\r\n",
      "   8490 igkv.fasta\r\n",
      "   8564 allele_freq.csv\r\n",
      "   8564 extras.csv\r\n",
      "   8565 genes_prevalence.csv\r\n",
      "   8566 genes.csv\r\n",
      "   8566 seqs.csv\r\n",
      "   9733 Test.java\r\n",
      "  15298 sas_plan\r\n",
      "  35007 run.log\r\n",
      "  35011 run\r\n",
      "  35016 properties\r\n",
      "1008906 \r\n"
     ]
    }
   ],
   "source": [
    "!cat data/dataset/listing.txt | sed s,.*/,, | sort | uniq -c  | sort | tail -n 30"
   ]
  },
  {
   "cell_type": "markdown",
   "metadata": {},
   "source": [
    "Despite being marked as _dataset,_ many of these indicate software source code (`Test.java`, `package.html`, `ApplicationTest.java`). \n",
    "\n",
    "Several files seem to indicate genomics data (`seqs.csv`, `genes.csv`, `igkv.fasta`, `allele_freq.csv`)\n",
    "\n",
    "Some indicate retrospective provenance or logs (`run`, `run.log`, `run.err`, `log.txt`, `replay.db`,), possibly prospective provenance (`sas_plan`)."
   ]
  },
  {
   "cell_type": "markdown",
   "metadata": {},
   "source": [
    "#### Most common filenames in _software_ ZIP files?\n",
    "\n",
    "Comparing with the above, let's check out the most common filenames within _software_ ZIP files:\n"
   ]
  },
  {
   "cell_type": "code",
   "execution_count": 51,
   "metadata": {},
   "outputs": [
    {
     "name": "stdout",
     "output_type": "stream",
     "text": [
      "    521 license.html\r\n",
      "    523 feature.properties\r\n",
      "    533 README.txt\r\n",
      "    540 readme.md\r\n",
      "    540 screen-output\r\n",
      "    562 package-frame.html\r\n",
      "    586 package-summary.html\r\n",
      "    615 feature.xml\r\n",
      "    647 index.rst\r\n",
      "    666 ChangeLog\r\n",
      "    709 setup.py\r\n",
      "    720 pom.xml\r\n",
      "    756 MANIFEST.MF\r\n",
      "    770 overview.html\r\n",
      "   1337 .travis.yml\r\n",
      "   1408 Kconfig\r\n",
      "   1513 index.js\r\n",
      "   1548 package.json\r\n",
      "   2001 README\r\n",
      "   2453 LICENSE\r\n",
      "   2630 .gitignore\r\n",
      "   2794 index.html\r\n",
      "   3604 data.json\r\n",
      "   3671 BuildFile.xml\r\n",
      "   4078 Makefile\r\n",
      "   4372 README.md\r\n",
      "   5617 CMakeLists.txt\r\n",
      "   6492 __init__.py\r\n",
      "  16870 __cts__.xml\r\n",
      " 153909 \r\n"
     ]
    }
   ],
   "source": [
    "!cat data/software/listing.txt | sed s,.*/,, | sort | uniq -c  | sort | tail -n 30"
   ]
  },
  {
   "cell_type": "markdown",
   "metadata": {},
   "source": [
    "The commonality of source code documentation files commonly recognized from GitHub (`README.md`, `README`, `README.txt`, `.gitignore`, `LICENSE`, `license.html`, `ChangeLog`) and automated build configuration (`.travis.yml`) indicate that a majority of our _software_ samples indeed are from the automated GitHub-to-Zenodo integration.  This could be verified by looking in the metadata's `links` for provenance links back to GitHub repository (**todo**).\n",
    "\n",
    "As expected for software source code we find configuration for  build systems (`BuildFile.xml`, `Makefile`, `CMakeLists.txt`, `pom.xml`, `setup.py` and `Kconfig` for the Linux kernel), documentation (`index.rst`, `index.html`, `overview.html`), software distribution/packaging (`package.json`) and package/module organization (`__init__.py`, `package.json`)\n",
    "\n",
    "**TODO**: Worth a closer look: `data.json`, `MANIFEST.MF` (Java JAR's [manifest file](https://docs.oracle.com/javase/tutorial/deployment/jar/manifestindex.html)), `__cts__.xml` ([Capitains textgroup metadata](http://capitains.org/pages/guidelines#directory-structure)?) and `screen-output`."
   ]
  },
  {
   "cell_type": "code",
   "execution_count": 52,
   "metadata": {},
   "outputs": [
    {
     "name": "stdout",
     "output_type": "stream",
     "text": [
      "data/dataset/listing.txt:lingpy-language-island-paper-736e70a/src/lexibank_hantganbangime/cldf/cldf-metadata.json\n",
      "data/dataset/listing.txt:lingpy-language-island-paper-736e70a/src/lexibank_hantganbangime/metadata.json\n",
      "data/dataset/listing.txt:CN-TU-nta-meta-analysis-9312ead/papers/2012/syarif_data.json\n",
      "data/dataset/listing.txt:CN-TU-nta-meta-analysis-9312ead/papers/2014/singh_bigdata.json\n",
      "data/others/listing.txt:reusabledata-reusabledata-84e84e4/data.json\n",
      "data/others/listing.txt:ro-crate-0.2.1/examples/workflow-0.2.0/ro-crate-metadata.jsonld\n",
      "data/others/listing.txt:felixlohmeier-bibliotheks-und-archivinformatik-0db7e6e/lrmi-metadata.json\n",
      "data/others/listing.txt:data.json.1\n",
      "data/others/listing.txt:data.json.1\n",
      "data/others/listing.txt:data.json.1\n",
      "data/others/listing.txt:2018-11-29_HandsOn_MD-simulations-fracture/ovito-2.9.0/Lib/site-packages/cycler-0.10.0.dist-info/metadata.json\n",
      "data/others/listing.txt:2018-11-29_HandsOn_MD-simulations-fracture/ovito-2.9.0/Lib/site-packages/matplotlib-1.5.3.dist-info/metadata.json\n",
      "data/others/listing.txt:2018-11-29_HandsOn_MD-simulations-fracture/ovito-2.9.0/Lib/site-packages/pip-8.1.2.dist-info/metadata.json\n",
      "data/others/listing.txt:2018-11-29_HandsOn_MD-simulations-fracture/ovito-2.9.0/Lib/site-packages/pyparsing-2.1.9.dist-info/metadata.json\n",
      "data/others/listing.txt:2018-11-29_HandsOn_MD-simulations-fracture/ovito-2.9.0/Lib/site-packages/python_dateutil-2.5.3.dist-info/metadata.json\n",
      "data/others/listing.txt:2018-11-29_HandsOn_MD-simulations-fracture/ovito-2.9.0/Lib/site-packages/setuptools-28.2.0.dist-info/metadata.json\n",
      "data/others/listing.txt:data.json.8\n",
      "data/others/listing.txt:data.json.2\n",
      "data/others/listing.txt:data.json.5\n",
      "data/others/listing.txt:data.json.9\n",
      "data/others/listing.txt:data.json.4\n",
      "data/others/listing.txt:data.json.6\n",
      "data/others/listing.txt:data.json.3\n",
      "data/others/listing.txt:data.json.10\n",
      "data/others/listing.txt:data.json.1\n",
      "data/others/listing.txt:data.json.7\n",
      "data/others/listing.txt:data.json.2\n",
      "data/others/listing.txt:data.json.5\n",
      "data/others/listing.txt:data.json.4\n",
      "data/others/listing.txt:data.json.3\n",
      "data/others/listing.txt:data.json.1\n",
      "data/others/listing.txt:code/libstrategy/third_party/json/test/data/nst_json_testsuite/test_parsing/n_structure_UTF8_BOM_no_data.json\n",
      "data/others/listing.txt:code/libstrategy/third_party/json/test/data/nst_json_testsuite/test_parsing/n_structure_no_data.json\n",
      "data/others/listing.txt:code/libstrategy/third_party/json/test/data/nst_json_testsuite2/test_parsing/n_structure_UTF8_BOM_no_data.json\n",
      "data/others/listing.txt:code/libstrategy/third_party/json/test/data/nst_json_testsuite2/test_parsing/n_structure_no_data.json\n",
      "data/others/listing.txt:Modellbildung-und-Simulation-0.4/_includes/metadata.json\n",
      "data/others/listing.txt:Coupette_Juristische_Netzwerkforschung_Online-Appendix/mockdata/data/flatland_mockdata.json\n",
      "data/others/listing.txt:2018-10-19_MD-Dislocation-Motion-in-Silicon/ovito-2.9.0/Lib/site-packages/setuptools-28.2.0.dist-info/metadata.json\n",
      "data/others/listing.txt:2018-10-19_MD-Dislocation-Motion-in-Silicon/ovito-2.9.0/Lib/site-packages/python_dateutil-2.5.3.dist-info/metadata.json\n",
      "data/others/listing.txt:2018-10-19_MD-Dislocation-Motion-in-Silicon/ovito-2.9.0/Lib/site-packages/pyparsing-2.1.9.dist-info/metadata.json\n",
      "data/others/listing.txt:2018-10-19_MD-Dislocation-Motion-in-Silicon/ovito-2.9.0/Lib/site-packages/pip-8.1.2.dist-info/metadata.json\n",
      "data/others/listing.txt:2018-10-19_MD-Dislocation-Motion-in-Silicon/ovito-2.9.0/Lib/site-packages/matplotlib-1.5.3.dist-info/metadata.json\n",
      "data/others/listing.txt:2018-10-19_MD-Dislocation-Motion-in-Silicon/ovito-2.9.0/Lib/site-packages/cycler-0.10.0.dist-info/metadata.json\n",
      "data/others/listing.txt:data/ms_data.json\n",
      "data/others/listing.txt:AVTrack360_files/AVTrack360_dataset/Head_rotation/merged_data.json\n",
      "data/others/listing.txt:2019-05-23_HandsOn_GrainBoundary1_zenodo/ovito-2.9.0/Lib/site-packages/pip-8.1.2.dist-info/metadata.json\n",
      "data/others/listing.txt:2019-05-23_HandsOn_GrainBoundary1_zenodo/ovito-2.9.0/Lib/site-packages/matplotlib-1.5.3.dist-info/metadata.json\n",
      "data/others/listing.txt:2019-05-23_HandsOn_GrainBoundary1_zenodo/ovito-2.9.0/Lib/site-packages/setuptools-28.2.0.dist-info/metadata.json\n",
      "data/others/listing.txt:2019-05-23_HandsOn_GrainBoundary1_zenodo/ovito-2.9.0/Lib/site-packages/python_dateutil-2.5.3.dist-info/metadata.json\n",
      "data/others/listing.txt:2019-05-23_HandsOn_GrainBoundary1_zenodo/ovito-2.9.0/Lib/site-packages/pyparsing-2.1.9.dist-info/metadata.json\n",
      "data/others/listing.txt:2019-05-23_HandsOn_GrainBoundary1_zenodo/ovito-2.9.0/Lib/site-packages/cycler-0.10.0.dist-info/metadata.json\n",
      "data/software/listing.txt:cytoscape-cytoscape.js-c717bd3/documentation/demos/6000-elements/data.json\n",
      "data/software/listing.txt:cytoscape-cytoscape.js-c717bd3/documentation/demos/circle-layout/data.json\n",
      "data/software/listing.txt:cytoscape-cytoscape.js-c717bd3/documentation/demos/colajs-graph/data.json\n",
      "data/software/listing.txt:cytoscape-cytoscape.js-c717bd3/documentation/demos/concentric-layout/data.json\n",
      "data/software/listing.txt:cytoscape-cytoscape.js-c717bd3/documentation/demos/cose-bilkent-layout-compound/data.json\n",
      "data/software/listing.txt:cytoscape-cytoscape.js-c717bd3/documentation/demos/cose-bilkent-layout/data.json\n",
      "data/software/listing.txt:cytoscape-cytoscape.js-c717bd3/documentation/demos/cose-layout/data.json\n",
      "data/software/listing.txt:cytoscape-cytoscape.js-c717bd3/documentation/demos/edge-arrows/data.json\n",
      "data/software/listing.txt:cytoscape-cytoscape.js-c717bd3/documentation/demos/edge-types/data.json\n",
      "data/software/listing.txt:cytoscape-cytoscape.js-c717bd3/documentation/demos/genemania-export/data.json\n",
      "data/software/listing.txt:cytoscape-cytoscape.js-c717bd3/documentation/demos/grid-layout/data.json\n",
      "data/software/listing.txt:cytoscape-cytoscape.js-c717bd3/documentation/demos/node-types/data.json\n",
      "data/software/listing.txt:cytoscape-cytoscape.js-c717bd3/documentation/demos/performance-tuning/data.json\n",
      "data/software/listing.txt:cytoscape-cytoscape.js-c717bd3/documentation/demos/spread-layout/data.json\n",
      "data/software/listing.txt:cern-it-sdc-id-puppet-dmlite-7b907c9/metadata.json\n",
      "data/software/listing.txt:cldf-csvw-a61fbf0/tests/csv.txt-metadata.json\n",
      "data/software/listing.txt:3191110276-RAMLFlask-1931af3/RAML_files/box/schemas/NewFolderMetadata.json\n",
      "data/software/listing.txt:plasticityai-magnitude-23b49f6/pymagnitude/third_party/allennlp/tests/fixtures/data/nlvr/sample_grouped_data.jsonl\n",
      "data/software/listing.txt:plasticityai-magnitude-23b49f6/pymagnitude/third_party/allennlp/tests/fixtures/data/nlvr/sample_processed_data.jsonl\n",
      "data/software/listing.txt:plasticityai-magnitude-23b49f6/pymagnitude/third_party/allennlp/tests/fixtures/data/nlvr/sample_ungrouped_data.jsonl\n",
      "data/software/listing.txt:ncsa-clowder-41ba9dc/public/jsonld/contexts/metadata.jsonld\n",
      "data/software/listing.txt:nismod-ukpopulation-be81e4b/tests/raw_data/NM_2002_1_metadata.json\n",
      "data/software/listing.txt:nismod-ukpopulation-be81e4b/tests/raw_data/NM_2006_1_metadata.json\n",
      "data/software/listing.txt:nismod-ukpopulation-be81e4b/tests/raw_data/NM_2009_1_metadata.json\n",
      "data/software/listing.txt:mdtraj-1.4.2/docs/_static/example-trajectoryview-data.json\n",
      "data/software/listing.txt:seignovert-python-opus-seti-18973fc/tests/api/data.json\n",
      "data/software/listing.txt:explosion-spaCy-7601ae0/examples/training/training-data.json\n",
      "data/software/listing.txt:explosion-spaCy-7601ae0/examples/training/vocab-data.jsonl\n",
      "data/software/listing.txt:explosion-spaCy-7601ae0/website/_data.json\n",
      "data/software/listing.txt:explosion-spaCy-7601ae0/website/api/_data.json\n",
      "data/software/listing.txt:explosion-spaCy-7601ae0/website/models/_data.json\n",
      "data/software/listing.txt:explosion-spaCy-7601ae0/website/universe/_data.json\n",
      "data/software/listing.txt:explosion-spaCy-7601ae0/website/usage/_data.json\n",
      "data/software/listing.txt:cfe-lab-Kive-5f5080e/kive/archive/fixtures/initial_data.json\n",
      "data/software/listing.txt:cfe-lab-Kive-5f5080e/kive/metadata/fixtures/initial_data.json\n",
      "data/software/listing.txt:cfe-lab-Kive-5f5080e/utils/backup_kive_data.json_default\n",
      "data/software/listing.txt:SeqWare-seqware-ec5dfd3/seqware-common/src/test/resources/data.json\n",
      "data/software/listing.txt:dockstore-dockstore-5a99c28/dockstore-client/src/test/resources/hello.metadata.json\n",
      "data/software/listing.txt:MRN-Code-coinstac-008fba9/packages/coinstac-simulator/test/Test Data/M1/x/data.json\n",
      "data/software/listing.txt:MRN-Code-coinstac-008fba9/packages/coinstac-simulator/test/Test Data/M1/y/data.json\n",
      "data/software/listing.txt:MRN-Code-coinstac-008fba9/packages/coinstac-simulator/test/Test Data/M2/x/data.json\n",
      "data/software/listing.txt:MRN-Code-coinstac-008fba9/packages/coinstac-simulator/test/Test Data/M2/y/data.json\n",
      "data/software/listing.txt:BD2KGenomics-dcc-metadata-indexer-ee3c80a/input_metadata.json\n",
      "data/software/listing.txt:BD2KGenomics-dcc-metadata-indexer-ee3c80a/output_metadata_7_20/1329abd5-a293-5a20-a32e-a31b7f37799d/metadata.json\n",
      "data/software/listing.txt:BD2KGenomics-dcc-metadata-indexer-ee3c80a/output_metadata_7_20/1485d032-df12-5d51-b7d3-7752a3bce7f3/metadata.json\n",
      "data/software/listing.txt:BD2KGenomics-dcc-metadata-indexer-ee3c80a/output_metadata_7_20/1b385686-29cd-5977-85af-7df005b7d561/metadata.json\n",
      "data/software/listing.txt:BD2KGenomics-dcc-metadata-indexer-ee3c80a/output_metadata_7_20/231ecfb1-5dd2-5368-9413-dedcc4a05d19/metadata.json\n",
      "data/software/listing.txt:BD2KGenomics-dcc-metadata-indexer-ee3c80a/output_metadata_7_20/250036a8-51ca-5172-ab8a-b561061d7bc1/metadata.json\n",
      "data/software/listing.txt:BD2KGenomics-dcc-metadata-indexer-ee3c80a/output_metadata_7_20/276bee46-dba8-5aff-8df9-152e417f44b5/metadata.json\n"
     ]
    },
    {
     "name": "stdout",
     "output_type": "stream",
     "text": [
      "grep: write error: Broken pipe\r\n"
     ]
    }
   ],
   "source": [
    "!grep 'data\\.json' data/*/listing.txt | head -n 100"
   ]
  },
  {
   "cell_type": "markdown",
   "metadata": {},
   "source": [
    "The regex `data\\.json` was too permissive, but this highlights some new patterns to look for generally: `*_data.json` and `*metadata.json`. "
   ]
  },
  {
   "cell_type": "code",
   "execution_count": 53,
   "metadata": {},
   "outputs": [
    {
     "name": "stdout",
     "output_type": "stream",
     "text": [
      "data/others/listing.txt:reusabledata-reusabledata-84e84e4/data.json\r\n",
      "data/software/listing.txt:cytoscape-cytoscape.js-c717bd3/documentation/demos/6000-elements/data.json\r\n",
      "data/software/listing.txt:cytoscape-cytoscape.js-c717bd3/documentation/demos/circle-layout/data.json\r\n",
      "data/software/listing.txt:cytoscape-cytoscape.js-c717bd3/documentation/demos/colajs-graph/data.json\r\n",
      "data/software/listing.txt:cytoscape-cytoscape.js-c717bd3/documentation/demos/concentric-layout/data.json\r\n",
      "data/software/listing.txt:cytoscape-cytoscape.js-c717bd3/documentation/demos/cose-bilkent-layout-compound/data.json\r\n",
      "data/software/listing.txt:cytoscape-cytoscape.js-c717bd3/documentation/demos/cose-bilkent-layout/data.json\r\n",
      "data/software/listing.txt:cytoscape-cytoscape.js-c717bd3/documentation/demos/cose-layout/data.json\r\n",
      "data/software/listing.txt:cytoscape-cytoscape.js-c717bd3/documentation/demos/edge-arrows/data.json\r\n",
      "data/software/listing.txt:cytoscape-cytoscape.js-c717bd3/documentation/demos/edge-types/data.json\r\n",
      "data/software/listing.txt:cytoscape-cytoscape.js-c717bd3/documentation/demos/genemania-export/data.json\r\n",
      "data/software/listing.txt:cytoscape-cytoscape.js-c717bd3/documentation/demos/grid-layout/data.json\r\n",
      "data/software/listing.txt:cytoscape-cytoscape.js-c717bd3/documentation/demos/node-types/data.json\r\n",
      "data/software/listing.txt:cytoscape-cytoscape.js-c717bd3/documentation/demos/performance-tuning/data.json\r\n",
      "data/software/listing.txt:cytoscape-cytoscape.js-c717bd3/documentation/demos/spread-layout/data.json\r\n",
      "data/software/listing.txt:seignovert-python-opus-seti-18973fc/tests/api/data.json\r\n",
      "data/software/listing.txt:SeqWare-seqware-ec5dfd3/seqware-common/src/test/resources/data.json\r\n",
      "data/software/listing.txt:MRN-Code-coinstac-008fba9/packages/coinstac-simulator/test/Test Data/M1/x/data.json\r\n",
      "data/software/listing.txt:MRN-Code-coinstac-008fba9/packages/coinstac-simulator/test/Test Data/M1/y/data.json\r\n",
      "data/software/listing.txt:MRN-Code-coinstac-008fba9/packages/coinstac-simulator/test/Test Data/M2/x/data.json\r\n",
      "data/software/listing.txt:MRN-Code-coinstac-008fba9/packages/coinstac-simulator/test/Test Data/M2/y/data.json\r\n",
      "data/software/listing.txt:lexibank-sagartst-24c5829/raw/data.json\r\n",
      "data/software/listing.txt:MRN-Code-coinstac-92ba699/packages/coinstac-simulator/test/Test Data/M1/x/data.json\r\n",
      "data/software/listing.txt:MRN-Code-coinstac-92ba699/packages/coinstac-simulator/test/Test Data/M1/y/data.json\r\n",
      "data/software/listing.txt:MRN-Code-coinstac-92ba699/packages/coinstac-simulator/test/Test Data/M2/x/data.json\r\n",
      "data/software/listing.txt:MRN-Code-coinstac-92ba699/packages/coinstac-simulator/test/Test Data/M2/y/data.json\r\n",
      "data/software/listing.txt:sonjageorgievska-CClusTera-0cc4cc7/data/0/0/0/0/data.json\r\n",
      "data/software/listing.txt:sonjageorgievska-CClusTera-0cc4cc7/data/0/0/0/540/data.json\r\n",
      "data/software/listing.txt:sonjageorgievska-CClusTera-0cc4cc7/data/0/0/0/793/data.json\r\n",
      "data/software/listing.txt:sonjageorgievska-CClusTera-0cc4cc7/data/0/0/0/810/data.json\r\n",
      "data/software/listing.txt:sonjageorgievska-CClusTera-0cc4cc7/data/0/0/0/837/data.json\r\n",
      "data/software/listing.txt:sonjageorgievska-CClusTera-0cc4cc7/data/0/0/0/data.json\r\n",
      "data/software/listing.txt:sonjageorgievska-CClusTera-0cc4cc7/data/0/0/125/125/data.json\r\n",
      "data/software/listing.txt:sonjageorgievska-CClusTera-0cc4cc7/data/0/0/125/240/data.json\r\n",
      "data/software/listing.txt:sonjageorgievska-CClusTera-0cc4cc7/data/0/0/125/716/data.json\r\n",
      "data/software/listing.txt:sonjageorgievska-CClusTera-0cc4cc7/data/0/0/125/data.json\r\n",
      "data/software/listing.txt:sonjageorgievska-CClusTera-0cc4cc7/data/0/0/197/197/data.json\r\n",
      "data/software/listing.txt:sonjageorgievska-CClusTera-0cc4cc7/data/0/0/197/244/data.json\r\n",
      "data/software/listing.txt:sonjageorgievska-CClusTera-0cc4cc7/data/0/0/197/374/data.json\r\n",
      "data/software/listing.txt:sonjageorgievska-CClusTera-0cc4cc7/data/0/0/197/823/data.json\r\n",
      "data/software/listing.txt:sonjageorgievska-CClusTera-0cc4cc7/data/0/0/197/data.json\r\n",
      "data/software/listing.txt:sonjageorgievska-CClusTera-0cc4cc7/data/0/0/data.json\r\n",
      "data/software/listing.txt:sonjageorgievska-CClusTera-0cc4cc7/data/0/16/141/141/data.json\r\n",
      "data/software/listing.txt:sonjageorgievska-CClusTera-0cc4cc7/data/0/16/141/406/data.json\r\n",
      "data/software/listing.txt:sonjageorgievska-CClusTera-0cc4cc7/data/0/16/141/572/data.json\r\n",
      "data/software/listing.txt:sonjageorgievska-CClusTera-0cc4cc7/data/0/16/141/data.json\r\n",
      "data/software/listing.txt:sonjageorgievska-CClusTera-0cc4cc7/data/0/16/16/16/data.json\r\n",
      "data/software/listing.txt:sonjageorgievska-CClusTera-0cc4cc7/data/0/16/16/392/data.json\r\n",
      "data/software/listing.txt:sonjageorgievska-CClusTera-0cc4cc7/data/0/16/16/data.json\r\n",
      "data/software/listing.txt:sonjageorgievska-CClusTera-0cc4cc7/data/0/16/56/241/data.json\r\n",
      "data/software/listing.txt:sonjageorgievska-CClusTera-0cc4cc7/data/0/16/56/56/data.json\r\n",
      "data/software/listing.txt:sonjageorgievska-CClusTera-0cc4cc7/data/0/16/56/633/data.json\r\n",
      "data/software/listing.txt:sonjageorgievska-CClusTera-0cc4cc7/data/0/16/56/data.json\r\n",
      "data/software/listing.txt:sonjageorgievska-CClusTera-0cc4cc7/data/0/16/data.json\r\n",
      "data/software/listing.txt:sonjageorgievska-CClusTera-0cc4cc7/data/0/31/114/114/data.json\r\n",
      "data/software/listing.txt:sonjageorgievska-CClusTera-0cc4cc7/data/0/31/114/345/data.json\r\n",
      "data/software/listing.txt:sonjageorgievska-CClusTera-0cc4cc7/data/0/31/114/419/data.json\r\n",
      "data/software/listing.txt:sonjageorgievska-CClusTera-0cc4cc7/data/0/31/114/data.json\r\n",
      "data/software/listing.txt:sonjageorgievska-CClusTera-0cc4cc7/data/0/31/184/184/data.json\r\n",
      "data/software/listing.txt:sonjageorgievska-CClusTera-0cc4cc7/data/0/31/184/254/data.json\r\n",
      "data/software/listing.txt:sonjageorgievska-CClusTera-0cc4cc7/data/0/31/184/387/data.json\r\n",
      "data/software/listing.txt:sonjageorgievska-CClusTera-0cc4cc7/data/0/31/184/546/data.json\r\n",
      "data/software/listing.txt:sonjageorgievska-CClusTera-0cc4cc7/data/0/31/184/data.json\r\n",
      "data/software/listing.txt:sonjageorgievska-CClusTera-0cc4cc7/data/0/31/31/31/data.json\r\n",
      "data/software/listing.txt:sonjageorgievska-CClusTera-0cc4cc7/data/0/31/31/481/data.json\r\n",
      "data/software/listing.txt:sonjageorgievska-CClusTera-0cc4cc7/data/0/31/31/632/data.json\r\n",
      "data/software/listing.txt:sonjageorgievska-CClusTera-0cc4cc7/data/0/31/31/data.json\r\n",
      "data/software/listing.txt:sonjageorgievska-CClusTera-0cc4cc7/data/0/31/60/451/data.json\r\n",
      "data/software/listing.txt:sonjageorgievska-CClusTera-0cc4cc7/data/0/31/60/60/data.json\r\n",
      "data/software/listing.txt:sonjageorgievska-CClusTera-0cc4cc7/data/0/31/60/697/data.json\r\n",
      "data/software/listing.txt:sonjageorgievska-CClusTera-0cc4cc7/data/0/31/60/data.json\r\n",
      "data/software/listing.txt:sonjageorgievska-CClusTera-0cc4cc7/data/0/31/data.json\r\n",
      "data/software/listing.txt:sonjageorgievska-CClusTera-0cc4cc7/data/0/data.json\r\n",
      "data/software/listing.txt:sonjageorgievska-CClusTera-0cc4cc7/data/1/1/1/1/data.json\r\n",
      "data/software/listing.txt:sonjageorgievska-CClusTera-0cc4cc7/data/1/1/1/486/data.json\r\n",
      "data/software/listing.txt:sonjageorgievska-CClusTera-0cc4cc7/data/1/1/1/561/data.json\r\n",
      "data/software/listing.txt:sonjageorgievska-CClusTera-0cc4cc7/data/1/1/1/666/data.json\r\n",
      "data/software/listing.txt:sonjageorgievska-CClusTera-0cc4cc7/data/1/1/1/data.json\r\n",
      "data/software/listing.txt:sonjageorgievska-CClusTera-0cc4cc7/data/1/1/123/123/data.json\r\n",
      "data/software/listing.txt:sonjageorgievska-CClusTera-0cc4cc7/data/1/1/123/296/data.json\r\n",
      "data/software/listing.txt:sonjageorgievska-CClusTera-0cc4cc7/data/1/1/123/364/data.json\r\n",
      "data/software/listing.txt:sonjageorgievska-CClusTera-0cc4cc7/data/1/1/123/625/data.json\r\n",
      "data/software/listing.txt:sonjageorgievska-CClusTera-0cc4cc7/data/1/1/123/643/data.json\r\n",
      "data/software/listing.txt:sonjageorgievska-CClusTera-0cc4cc7/data/1/1/123/751/data.json\r\n",
      "data/software/listing.txt:sonjageorgievska-CClusTera-0cc4cc7/data/1/1/123/data.json\r\n",
      "data/software/listing.txt:sonjageorgievska-CClusTera-0cc4cc7/data/1/1/84/265/data.json\r\n",
      "data/software/listing.txt:sonjageorgievska-CClusTera-0cc4cc7/data/1/1/84/307/data.json\r\n",
      "data/software/listing.txt:sonjageorgievska-CClusTera-0cc4cc7/data/1/1/84/339/data.json\r\n",
      "data/software/listing.txt:sonjageorgievska-CClusTera-0cc4cc7/data/1/1/84/760/data.json\r\n",
      "data/software/listing.txt:sonjageorgievska-CClusTera-0cc4cc7/data/1/1/84/820/data.json\r\n",
      "data/software/listing.txt:sonjageorgievska-CClusTera-0cc4cc7/data/1/1/84/84/data.json\r\n",
      "data/software/listing.txt:sonjageorgievska-CClusTera-0cc4cc7/data/1/1/84/data.json\r\n",
      "data/software/listing.txt:sonjageorgievska-CClusTera-0cc4cc7/data/1/1/data.json\r\n",
      "data/software/listing.txt:sonjageorgievska-CClusTera-0cc4cc7/data/1/11/11/11/data.json\r\n",
      "data/software/listing.txt:sonjageorgievska-CClusTera-0cc4cc7/data/1/11/11/271/data.json\r\n",
      "data/software/listing.txt:sonjageorgievska-CClusTera-0cc4cc7/data/1/11/11/396/data.json\r\n",
      "data/software/listing.txt:sonjageorgievska-CClusTera-0cc4cc7/data/1/11/11/722/data.json\r\n",
      "data/software/listing.txt:sonjageorgievska-CClusTera-0cc4cc7/data/1/11/11/748/data.json\r\n",
      "data/software/listing.txt:sonjageorgievska-CClusTera-0cc4cc7/data/1/11/11/data.json\r\n",
      "data/software/listing.txt:sonjageorgievska-CClusTera-0cc4cc7/data/1/11/157/157/data.json\r\n",
      "grep: write error: Broken pipe\r\n"
     ]
    }
   ],
   "source": [
    "!grep '/data\\.json' data/*/listing.txt | head -n100"
   ]
  },
  {
   "cell_type": "markdown",
   "metadata": {},
   "source": [
    "The majority of `data.json` occurances are from within each nested folders of the [demo/test data](https://github.com/sonjageorgievska/CClusTera/tree/master/data) of the data visualizer [CClusTera](https://github.com/sonjageorgievska/CClusTera)."
   ]
  },
  {
   "cell_type": "code",
   "execution_count": 54,
   "metadata": {},
   "outputs": [
    {
     "name": "stdout",
     "output_type": "stream",
     "text": [
      "data/dataset/listing.txt:lingpy-language-island-paper-736e70a/src/lexibank_hantganbangime/cldf/cldf-metadata.json\n",
      "data/dataset/listing.txt:lingpy-language-island-paper-736e70a/src/lexibank_hantganbangime/metadata.json\n",
      "data/others/listing.txt:ro-crate-0.2.1/examples/workflow-0.2.0/ro-crate-metadata.jsonld\n",
      "data/others/listing.txt:felixlohmeier-bibliotheks-und-archivinformatik-0db7e6e/lrmi-metadata.json\n",
      "data/others/listing.txt:2018-11-29_HandsOn_MD-simulations-fracture/ovito-2.9.0/Lib/site-packages/cycler-0.10.0.dist-info/metadata.json\n",
      "data/others/listing.txt:2018-11-29_HandsOn_MD-simulations-fracture/ovito-2.9.0/Lib/site-packages/matplotlib-1.5.3.dist-info/metadata.json\n",
      "data/others/listing.txt:2018-11-29_HandsOn_MD-simulations-fracture/ovito-2.9.0/Lib/site-packages/pip-8.1.2.dist-info/metadata.json\n",
      "data/others/listing.txt:2018-11-29_HandsOn_MD-simulations-fracture/ovito-2.9.0/Lib/site-packages/pyparsing-2.1.9.dist-info/metadata.json\n",
      "data/others/listing.txt:2018-11-29_HandsOn_MD-simulations-fracture/ovito-2.9.0/Lib/site-packages/python_dateutil-2.5.3.dist-info/metadata.json\n",
      "data/others/listing.txt:2018-11-29_HandsOn_MD-simulations-fracture/ovito-2.9.0/Lib/site-packages/setuptools-28.2.0.dist-info/metadata.json\n",
      "data/others/listing.txt:Modellbildung-und-Simulation-0.4/_includes/metadata.json\n",
      "data/others/listing.txt:2018-10-19_MD-Dislocation-Motion-in-Silicon/ovito-2.9.0/Lib/site-packages/setuptools-28.2.0.dist-info/metadata.json\n",
      "data/others/listing.txt:2018-10-19_MD-Dislocation-Motion-in-Silicon/ovito-2.9.0/Lib/site-packages/python_dateutil-2.5.3.dist-info/metadata.json\n",
      "data/others/listing.txt:2018-10-19_MD-Dislocation-Motion-in-Silicon/ovito-2.9.0/Lib/site-packages/pyparsing-2.1.9.dist-info/metadata.json\n",
      "data/others/listing.txt:2018-10-19_MD-Dislocation-Motion-in-Silicon/ovito-2.9.0/Lib/site-packages/pip-8.1.2.dist-info/metadata.json\n",
      "data/others/listing.txt:2018-10-19_MD-Dislocation-Motion-in-Silicon/ovito-2.9.0/Lib/site-packages/matplotlib-1.5.3.dist-info/metadata.json\n",
      "data/others/listing.txt:2018-10-19_MD-Dislocation-Motion-in-Silicon/ovito-2.9.0/Lib/site-packages/cycler-0.10.0.dist-info/metadata.json\n",
      "data/others/listing.txt:2019-05-23_HandsOn_GrainBoundary1_zenodo/ovito-2.9.0/Lib/site-packages/pip-8.1.2.dist-info/metadata.json\n",
      "data/others/listing.txt:2019-05-23_HandsOn_GrainBoundary1_zenodo/ovito-2.9.0/Lib/site-packages/matplotlib-1.5.3.dist-info/metadata.json\n",
      "data/others/listing.txt:2019-05-23_HandsOn_GrainBoundary1_zenodo/ovito-2.9.0/Lib/site-packages/setuptools-28.2.0.dist-info/metadata.json\n",
      "data/others/listing.txt:2019-05-23_HandsOn_GrainBoundary1_zenodo/ovito-2.9.0/Lib/site-packages/python_dateutil-2.5.3.dist-info/metadata.json\n",
      "data/others/listing.txt:2019-05-23_HandsOn_GrainBoundary1_zenodo/ovito-2.9.0/Lib/site-packages/pyparsing-2.1.9.dist-info/metadata.json\n",
      "data/others/listing.txt:2019-05-23_HandsOn_GrainBoundary1_zenodo/ovito-2.9.0/Lib/site-packages/cycler-0.10.0.dist-info/metadata.json\n",
      "data/software/listing.txt:cern-it-sdc-id-puppet-dmlite-7b907c9/metadata.json\n",
      "data/software/listing.txt:cldf-csvw-a61fbf0/tests/csv.txt-metadata.json\n",
      "data/software/listing.txt:ncsa-clowder-41ba9dc/public/jsonld/contexts/metadata.jsonld\n",
      "data/software/listing.txt:nismod-ukpopulation-be81e4b/tests/raw_data/NM_2002_1_metadata.json\n",
      "data/software/listing.txt:nismod-ukpopulation-be81e4b/tests/raw_data/NM_2006_1_metadata.json\n",
      "data/software/listing.txt:nismod-ukpopulation-be81e4b/tests/raw_data/NM_2009_1_metadata.json\n",
      "data/software/listing.txt:dockstore-dockstore-5a99c28/dockstore-client/src/test/resources/hello.metadata.json\n",
      "data/software/listing.txt:BD2KGenomics-dcc-metadata-indexer-ee3c80a/input_metadata.json\n",
      "data/software/listing.txt:BD2KGenomics-dcc-metadata-indexer-ee3c80a/output_metadata_7_20/1329abd5-a293-5a20-a32e-a31b7f37799d/metadata.json\n",
      "data/software/listing.txt:BD2KGenomics-dcc-metadata-indexer-ee3c80a/output_metadata_7_20/1485d032-df12-5d51-b7d3-7752a3bce7f3/metadata.json\n",
      "data/software/listing.txt:BD2KGenomics-dcc-metadata-indexer-ee3c80a/output_metadata_7_20/1b385686-29cd-5977-85af-7df005b7d561/metadata.json\n",
      "data/software/listing.txt:BD2KGenomics-dcc-metadata-indexer-ee3c80a/output_metadata_7_20/231ecfb1-5dd2-5368-9413-dedcc4a05d19/metadata.json\n",
      "data/software/listing.txt:BD2KGenomics-dcc-metadata-indexer-ee3c80a/output_metadata_7_20/250036a8-51ca-5172-ab8a-b561061d7bc1/metadata.json\n",
      "data/software/listing.txt:BD2KGenomics-dcc-metadata-indexer-ee3c80a/output_metadata_7_20/276bee46-dba8-5aff-8df9-152e417f44b5/metadata.json\n",
      "data/software/listing.txt:BD2KGenomics-dcc-metadata-indexer-ee3c80a/output_metadata_7_20/27e5bf8e-b88c-5302-9c3a-57cc484808b2/metadata.json\n",
      "data/software/listing.txt:BD2KGenomics-dcc-metadata-indexer-ee3c80a/output_metadata_7_20/2d49242e-b8f9-50ff-b304-158588382735/metadata.json\n",
      "data/software/listing.txt:BD2KGenomics-dcc-metadata-indexer-ee3c80a/output_metadata_7_20/314ae2cb-3ae4-578c-9a5c-ec414f6eeb6e/metadata.json\n",
      "data/software/listing.txt:BD2KGenomics-dcc-metadata-indexer-ee3c80a/output_metadata_7_20/36fac350-aa3f-5667-a444-971adc7054a1/metadata.json\n",
      "data/software/listing.txt:BD2KGenomics-dcc-metadata-indexer-ee3c80a/output_metadata_7_20/3a396d0d-fb5a-53de-9bd1-0a8d5249a233/metadata.json\n",
      "data/software/listing.txt:BD2KGenomics-dcc-metadata-indexer-ee3c80a/output_metadata_7_20/433c5ef9-e4db-5602-923c-1d454a9baad5/metadata.json\n",
      "data/software/listing.txt:BD2KGenomics-dcc-metadata-indexer-ee3c80a/output_metadata_7_20/45ce9304-1fb1-5b18-be69-8463cf8532b6/metadata.json\n",
      "data/software/listing.txt:BD2KGenomics-dcc-metadata-indexer-ee3c80a/output_metadata_7_20/46c0a4dc-29a6-5a8f-974f-95acc883583d/metadata.json\n",
      "data/software/listing.txt:BD2KGenomics-dcc-metadata-indexer-ee3c80a/output_metadata_7_20/4b4471a7-9297-54f0-ae42-e6eb6f163847/metadata.json\n",
      "data/software/listing.txt:BD2KGenomics-dcc-metadata-indexer-ee3c80a/output_metadata_7_20/581f5b0e-346d-50eb-865a-58fdd07c7082/metadata.json\n",
      "data/software/listing.txt:BD2KGenomics-dcc-metadata-indexer-ee3c80a/output_metadata_7_20/5c58e075-a2ba-536c-b039-f0418746dcea/metadata.json\n",
      "data/software/listing.txt:BD2KGenomics-dcc-metadata-indexer-ee3c80a/output_metadata_7_20/6132a741-090d-5fb8-99d9-a68204843657/metadata.json\n",
      "data/software/listing.txt:BD2KGenomics-dcc-metadata-indexer-ee3c80a/output_metadata_7_20/697e0740-d302-5699-b4fb-04c3352565c8/metadata.json\n",
      "data/software/listing.txt:BD2KGenomics-dcc-metadata-indexer-ee3c80a/output_metadata_7_20/6f50c297-72c9-582c-8434-5cee55bd76c5/metadata.json\n",
      "data/software/listing.txt:BD2KGenomics-dcc-metadata-indexer-ee3c80a/output_metadata_7_20/7e39efc2-b12a-5d62-9542-8bbd5d4715c9/metadata.json\n",
      "data/software/listing.txt:BD2KGenomics-dcc-metadata-indexer-ee3c80a/output_metadata_7_20/84e9bb68-6109-5f57-9f25-b2421d3bc2f6/metadata.json\n",
      "data/software/listing.txt:BD2KGenomics-dcc-metadata-indexer-ee3c80a/output_metadata_7_20/854d1130-e1fc-57d8-bd93-9e38831e334d/metadata.json\n",
      "data/software/listing.txt:BD2KGenomics-dcc-metadata-indexer-ee3c80a/output_metadata_7_20/86d41d05-824e-5d05-b605-498e41c8811f/metadata.json\n",
      "data/software/listing.txt:BD2KGenomics-dcc-metadata-indexer-ee3c80a/output_metadata_7_20/94879018-4c59-5537-a913-a87c820c69de/metadata.json\n",
      "data/software/listing.txt:BD2KGenomics-dcc-metadata-indexer-ee3c80a/output_metadata_7_20/9761a5fb-af6b-5988-8a39-99d64cd38426/metadata.json\n",
      "data/software/listing.txt:BD2KGenomics-dcc-metadata-indexer-ee3c80a/output_metadata_7_20/a21dac21-f49f-556a-b463-859a66d8d0f5/metadata.json\n",
      "data/software/listing.txt:BD2KGenomics-dcc-metadata-indexer-ee3c80a/output_metadata_7_20/aa9f3841-5c2d-5151-8055-828396c7af07/metadata.json\n",
      "data/software/listing.txt:BD2KGenomics-dcc-metadata-indexer-ee3c80a/output_metadata_7_20/abb28a2b-80f1-597a-a110-572e70efdba2/metadata.json\n",
      "data/software/listing.txt:BD2KGenomics-dcc-metadata-indexer-ee3c80a/output_metadata_7_20/ae585daf-4ddf-5ad1-840b-a6b7ed035b41/metadata.json\n",
      "data/software/listing.txt:BD2KGenomics-dcc-metadata-indexer-ee3c80a/output_metadata_7_20/af23de4e-7599-53ea-b0de-9a9a042079c7/metadata.json\n",
      "data/software/listing.txt:BD2KGenomics-dcc-metadata-indexer-ee3c80a/output_metadata_7_20/b01b387f-ebc5-59d4-a2cb-7bf8eab61ea4/metadata.json\n",
      "data/software/listing.txt:BD2KGenomics-dcc-metadata-indexer-ee3c80a/output_metadata_7_20/b50a1bf3-588a-5549-a104-1602e6d45f70/metadata.json\n",
      "data/software/listing.txt:BD2KGenomics-dcc-metadata-indexer-ee3c80a/output_metadata_7_20/bbb6c411-c1ae-54c3-b35d-d04f81bf6a47/metadata.json\n",
      "data/software/listing.txt:BD2KGenomics-dcc-metadata-indexer-ee3c80a/output_metadata_7_20/bdc66ef2-2821-5014-b56d-5186b51d00a6/metadata.json\n",
      "data/software/listing.txt:BD2KGenomics-dcc-metadata-indexer-ee3c80a/output_metadata_7_20/c1b6f53b-d682-5592-984c-76c9a7051f7d/metadata.json\n",
      "data/software/listing.txt:BD2KGenomics-dcc-metadata-indexer-ee3c80a/output_metadata_7_20/c6ad4d9a-7bec-5bdf-b617-14297b1204b9/metadata.json\n",
      "data/software/listing.txt:BD2KGenomics-dcc-metadata-indexer-ee3c80a/output_metadata_7_20/ca3ccf42-c0ea-553b-b19f-e34570a1f03c/metadata.json\n",
      "data/software/listing.txt:BD2KGenomics-dcc-metadata-indexer-ee3c80a/output_metadata_7_20/cac0a22d-fb4c-5c6e-8c84-4f9d12ae3fc8/metadata.json\n",
      "data/software/listing.txt:BD2KGenomics-dcc-metadata-indexer-ee3c80a/output_metadata_7_20/d020ba5a-e38e-5ecb-ac3a-226cffa04b3b/metadata.json\n",
      "data/software/listing.txt:BD2KGenomics-dcc-metadata-indexer-ee3c80a/output_metadata_7_20/d473de7b-0258-5f9a-bf38-7ddb794fe58d/metadata.json\n",
      "data/software/listing.txt:BD2KGenomics-dcc-metadata-indexer-ee3c80a/output_metadata_7_20/efd4540f-684f-5691-b1d7-acc36cf35a17/metadata.json\n",
      "data/software/listing.txt:BD2KGenomics-dcc-metadata-indexer-ee3c80a/output_metadata_7_20/f21cba59-cf23-576c-8940-67df974908f9/metadata.json\n",
      "data/software/listing.txt:BD2KGenomics-dcc-metadata-indexer-ee3c80a/v2/input_metadata.json\n"
     ]
    },
    {
     "name": "stdout",
     "output_type": "stream",
     "text": [
      "data/software/listing.txt:cern-it-sdc-id-puppet-lcgdm-fb1f616/metadata.json\n",
      "data/software/listing.txt:kipoi-kipoi-dcb0e3f/example/models/extended_coda/example_files/H3K27AC_subsampled.bw/metadata.json\n",
      "data/software/listing.txt:cern-it-sdc-id-puppet-dpm-9ed4431/metadata.json\n",
      "data/software/listing.txt:lexibank-sagartst-24c5829/cldf/cldf-metadata.json\n",
      "data/software/listing.txt:lexibank-sagartst-24c5829/metadata.json\n",
      "data/software/listing.txt:cern-it-sdc-id-puppet-dpm-c0795ba/metadata.json\n",
      "data/software/listing.txt:ncsa-clowder-5e73299/public/jsonld/contexts/metadata.jsonld\n",
      "data/software/listing.txt:cern-it-sdc-id-puppet-gridftp-8eba116/metadata.json\n"
     ]
    }
   ],
   "source": [
    "!grep 'metadata\\.json' data/*/listing.txt"
   ]
  },
  {
   "cell_type": "markdown",
   "metadata": {},
   "source": [
    "#### What are the most common filenames of other ZIP files?\n",
    "\n",
    "For completeness, a quick look of the filenames of ZIP files in records that are neither _dataset_ nor _software_ :"
   ]
  },
  {
   "cell_type": "code",
   "execution_count": 55,
   "metadata": {},
   "outputs": [
    {
     "name": "stdout",
     "output_type": "stream",
     "text": [
      "   6156 dziflogo.png\r\n",
      "   6156 fungi.css\r\n",
      "   6156 fungi_about.png\r\n",
      "   6156 fungi_download.png\r\n",
      "   6156 fungi_help.png\r\n",
      "   6156 fungi_home.png\r\n",
      "   6156 fungi_logo.png\r\n",
      "   6156 geneclusters.js\r\n",
      "   6156 geneclusters.txt\r\n",
      "   6156 jquery-1.10.2.min.js\r\n",
      "   6156 jquery-ui-1.10.4.custom.min.js\r\n",
      "   6156 jquery.tablesorter.min.js\r\n",
      "   6156 jquery.tmpl-1.0.0pre.js\r\n",
      "   6156 jsdomain.js\r\n",
      "   6156 nostructure_icon.png\r\n",
      "   6156 plants.css\r\n",
      "   6156 purl.js\r\n",
      "   6156 ruglogo.gif\r\n",
      "   6156 svgene.js\r\n",
      "   6156 tueblogo.gif\r\n",
      "   6156 ucsflogo.gif\r\n",
      "   6156 wur-logo.png\r\n",
      "   6160 mail.png\r\n",
      "   6422 jquery.js\r\n",
      "   7440 index.html\r\n",
      "  22968 ._test.csv\r\n",
      "  22968 ._train.csv\r\n",
      "  22968 train.csv\r\n",
      "  22975 test.csv\r\n",
      " 141690 \r\n"
     ]
    }
   ],
   "source": [
    "!cat data/others/listing.txt | sed s,.*/,, | sort | uniq -c  | sort | tail -n 30"
   ]
  },
  {
   "cell_type": "markdown",
   "metadata": {},
   "source": [
    "**TODO**: Explore..\n"
   ]
  },
  {
   "cell_type": "markdown",
   "metadata": {},
   "source": [
    "#### What are the most common extensions of files within _dataset_ ZIP files?"
   ]
  },
  {
   "cell_type": "code",
   "execution_count": null,
   "metadata": {
    "scrolled": true
   },
   "outputs": [],
   "source": [
    "!cat data/dataset/listing.txt | sed 's,.*\\.,,' | sort | uniq -c -i | sort | tail -n 300"
   ]
  },
  {
   "cell_type": "markdown",
   "metadata": {},
   "source": [
    "**TODO**: analyze these file extensions further. \n",
    "    \n",
    "Worth an extra look: `*.rdf`, `*.xml` `*.hpp`, `*.dcm`, `*.mseed`, `*.x10`, `*.json` - what are the most common basenames for each of these?"
   ]
  },
  {
   "cell_type": "code",
   "execution_count": null,
   "metadata": {},
   "outputs": [],
   "source": []
  },
  {
   "cell_type": "markdown",
   "metadata": {},
   "source": [
    "While the extensions above is looking at _dataset_ records, we still see a large number of _software_ hits from `*.java` source code or `*.class` from compiled Java bytecode, however again noting that these may come from a small number of records because a Java program woild have one of these files for every defined class.\n",
    "\n",
    "Indeed, we find the 838624 `*.java` files are from just 71 sampled _dataset_ records, and the 145934 `*.class` files from 69 records."
   ]
  },
  {
   "cell_type": "code",
   "execution_count": null,
   "metadata": {},
   "outputs": [],
   "source": [
    "!grep '\\.java' data/dataset/listing/* | cut -f 1 -d : | uniq | wc -l"
   ]
  },
  {
   "cell_type": "code",
   "execution_count": null,
   "metadata": {},
   "outputs": [],
   "source": [
    "!grep '\\.class' data/dataset/listing/* | cut -f 1 -d : | uniq | wc -l"
   ]
  },
  {
   "cell_type": "code",
   "execution_count": null,
   "metadata": {},
   "outputs": [],
   "source": [
    "!grep '\\.bz2' data/dataset/listing/* | cut -f 1 -d : | uniq | wc -l"
   ]
  },
  {
   "cell_type": "markdown",
   "metadata": {},
   "source": [
    "For comparison the 165765 `*bz2` compressed files come from 763 records. As files compressed with `gz` and `bz2` often have filenames like `foo.txt.bz2` we will explore their intermediate extensions separately:"
   ]
  },
  {
   "cell_type": "code",
   "execution_count": null,
   "metadata": {},
   "outputs": [],
   "source": [
    " !grep '\\.bz2' data/dataset/listing.txt| sed s/.bz2$// | \\\n",
    "    sed 's,.*\\.,,' | sort | uniq -c  | sort | tail -n 30"
   ]
  },
  {
   "cell_type": "markdown",
   "metadata": {},
   "source": [
    "The overwhelming majority of `*.bz2` files are `*.grib2.bz2` files, which seem to be coming from regular releases from <http://opendata.dwd.de> weather data from Deutscher Wetter Dienst.\n"
   ]
  },
  {
   "cell_type": "code",
   "execution_count": null,
   "metadata": {},
   "outputs": [],
   "source": [
    "!grep grib2 data/dataset/listing/* | grep icon-.*H_SNOW | head -n50"
   ]
  },
  {
   "cell_type": "markdown",
   "metadata": {},
   "source": [
    "The regular releases are all grouped under <https://doi.org/10.5281/zenodo.3239490>, and each of the 137 versions contain the same pattern filenames with different datestamps internally, where each new release record contain **all** the same ZIP files (one per day of the year, e.g. https://zenodo.org/record/3509967 contain `20190527.zip` to `20191120.zip`), adding to the record any new ZIP files for the days since previous release.\n",
    "\n",
    "It is possible to detect these duplicate files by checking the `file_checksum` in the Zenodo metadata, even if they have different download URLs (Zenodo does not currently perform deduplication).\n",
    "\n",
    "In this case the Zenodo record itself acts as an incremental _research object_, and it is probably beneficial for users that the weather data for different dates are separate, as they would not need to re-download old data that has not changed. This would not have been the case if the weather center instead regularly released a single mega-zip which would then always appear with a \"new\" checksum.\n",
    "\n",
    "Zenodo does not currently provide a \"download all\" mechanism for users, but download file names preserve the original filename, e.g. <https://zenodo.org/record/3509967/files/20190527.zip> and <https://zenodo.org/record/3509967/files/20191120.zip> for `20190527.zip` and `20191120.zip`."
   ]
  },
  {
   "cell_type": "markdown",
   "metadata": {},
   "source": [
    "Now let's consider the same subextensions of `*.gz` files, which is the more common single-file compression in Linux and UNIX."
   ]
  },
  {
   "cell_type": "code",
   "execution_count": null,
   "metadata": {},
   "outputs": [],
   "source": [
    " !grep '\\.gz' data/dataset/listing.txt| sed s/.gz$// | \\\n",
    "\n",
    "    sed 's,.*\\.,,' | sort | uniq -c  | sort | tail -n 30"
   ]
  },
  {
   "cell_type": "markdown",
   "metadata": {},
   "source": [
    "**TODO**: Explore these filetypes more. \n",
    "\n",
    "`*.warc` are [WebIs archives](https://github.com/webis-de/webis-web-archiver) from a web crawl in the single record <https://doi.org/10.5281/zenodo.1002204> which have been sampled twice for two different contained downloads."
   ]
  },
  {
   "cell_type": "code",
   "execution_count": null,
   "metadata": {},
   "outputs": [],
   "source": [
    "!grep warc.gz data/dataset/listing/* | cut -d : -f 1 \\| uniq"
   ]
  },
  {
   "cell_type": "code",
   "execution_count": null,
   "metadata": {},
   "outputs": [],
   "source": [
    "!cat `grep warc.gz data/dataset/listing/* | cut -d : -f 1 \\| uniq | sed s/listing/sample/ | sed s/.txt$/.tsv/`"
   ]
  },
  {
   "cell_type": "code",
   "execution_count": null,
   "metadata": {},
   "outputs": [],
   "source": []
  },
  {
   "cell_type": "markdown",
   "metadata": {},
   "source": [
    "## Investigating Linked Data files\n",
    "\n",
    "From our sample we find that 193 ZIP files have one or more `*.rdf` or `*.ttl` file, indicating the Linked Data formats [RDF/XML](https://www.w3.org/TR/rdf-syntax-grammar/) and [Turtle](https://www.w3.org/TR/turtle/).\n",
    "\n",
    "As these are structured data files with namespaces, a relevant question is to investigate which namespaces and properties are used the most across these, to see if any of those are used for self-describing the package or its content.\n",
    "\n",
    "As the original workflow did not store all the sampled ZIP files, so we select again only those ZIPs that contain filenames with those extensions:\n"
   ]
  },
  {
   "cell_type": "code",
   "execution_count": 2,
   "metadata": {},
   "outputs": [
    {
     "name": "stdout",
     "output_type": "stream",
     "text": [
      "/bin/sh: 1: cannot create rdf/: Is a directory\r\n",
      "mkdir: invalid option -- 'r'\r\n",
      "Try 'mkdir --help' for more information.\r\n"
     ]
    }
   ],
   "source": [
    "! mkdir rdf"
   ]
  },
  {
   "cell_type": "code",
   "execution_count": 3,
   "metadata": {},
   "outputs": [
    {
     "name": "stdout",
     "output_type": "stream",
     "text": [
      "/bin/sh: 1: cannot create rdf/: Is a directory\r\n",
      "grep: */listing: No such file or directory\r\n"
     ]
    }
   ],
   "source": [
    "! egrep -ri '(ttl|rdf$)' */listing | \\ \n",
    "    cut -d \":\" -f 1 | sort | uniq  | \\\n",
    "    sed s/listing/sample/ | sed s/txt$/tsv/ | \\\n",
    "   xargs awk '{print $5}' > rdf/urls.txt"
   ]
  },
  {
   "cell_type": "markdown",
   "metadata": {},
   "source": [
    "We'll downloading each of them using `wget --mirror` so the local filepath corresponds to the URL, e.g. `zenodo.org/api/files/232472d7-a5b9-4d2a-8ff2-ea146b52e703/jhpoelen/eol-globi-data-v0.8.12.zip`\n",
    "\n",
    "**TODO**: Tidy up to reuse sample-id instead of `mktemp`. Avoid extracting non-RDF files."
   ]
  },
  {
   "cell_type": "code",
   "execution_count": null,
   "metadata": {},
   "outputs": [],
   "source": [
    "! cat rdf/urls.txt | xarg wget --mirror --directory-prefix=rdf"
   ]
  },
  {
   "cell_type": "code",
   "execution_count": null,
   "metadata": {},
   "outputs": [],
   "source": [
    "! cd rdf; for f in `find . -name '*zip'` ; do DIR=`mktemp -d --tmpdir=.` ; pushd $DIR ; unzip ../$f ; popd; done"
   ]
  },
  {
   "cell_type": "markdown",
   "metadata": {},
   "source": [
    "Next we look again for the `*.rdf` files and parse them with [Apache Jena riot](https://jena.apache.org/documentation/io/#command-line-tools) to get a single line-based [N-Quads](https://www.w3.org/TR/n-quads/) RDF graph."
   ]
  },
  {
   "cell_type": "code",
   "execution_count": null,
   "metadata": {},
   "outputs": [],
   "source": [
    "! find rdf -name '*rdf' | xargs docker run -v `pwd`/rdf:/rdf stain/jena riot  > rdf/riot.n3"
   ]
  },
  {
   "cell_type": "markdown",
   "metadata": {},
   "source": [
    "While we could do complex queries of this unified graph using [SPARQL](https://www.w3.org/TR/sparql11-overview/), for finding the properties used we can simply use `awk` because of the line-based nature of NQuads."
   ]
  },
  {
   "cell_type": "code",
   "execution_count": null,
   "metadata": {},
   "outputs": [],
   "source": [
    "! cat rdf/riot.n3  | awk '{print $2}' | sort | uniq -c"
   ]
  },
  {
   "cell_type": "markdown",
   "metadata": {},
   "source": [
    "```\n",
    "...\n",
    "    355 <http://www.w3.org/ns/prov#wasAttributedTo>\n",
    "    355 <http://www.w3.org/ns/prov#wasDerivedFrom>\n",
    "    389 <http://purl.org/ontology/bibo/issue>\n",
    "    392 <http://purl.org/dc/terms/subject>\n",
    "    410 <http://purl.org/ontology/bibo/volume>\n",
    "    451 <http://purl.org/dc/terms/description>\n",
    "    518 <http://www.w3.org/2000/01/rdf-schema#isDefinedBy>\n",
    "    578 <http://purl.org/ontology/bibo/issn>\n",
    "    579 <http://www.w3.org/2000/01/rdf-schema#label>\n",
    "    965 <http://xmlns.com/foaf/0.1/accountName>\n",
    "    987 <http://xmlns.com/foaf/0.1/account>\n",
    "   1415 <http://purl.org/dc/terms/publisher>\n",
    "   4702 <http://purl.org/ontology/bibo/doi>\n",
    "  10825 <http://www.w3.org/2011/content#characterEncoding>\n",
    "  11224 <http://www.w3.org/2011/content#chars>\n",
    "  11240 <http://purl.org/ontology/bibo/pmid>\n",
    "  12333 <http://purl.org/ontology/bibo/pageEnd>\n",
    "  12696 <http://purl.org/ontology/bibo/pageStart>\n",
    "  13148 <http://purl.org/ontology/bibo/authorList>\n",
    "  13548 <http://purl.org/dc/terms/issued>\n",
    "  13836 <http://www.w3.org/2000/01/rdf-schema#comment>\n",
    "  15827 <http://www.w3.org/2002/07/owl#sameAs>\n",
    "  16297 <http://purl.org/dc/terms/identifier>\n",
    "  25431 <http://purl.org/dc/terms/title>\n",
    "  31484 <http://purl.org/ontology/bibo/citedBy>\n",
    "  31488 <http://purl.org/ontology/bibo/cites>\n",
    "  43850 <http://purl.org/dc/terms/hasPart>\n",
    "  43850 <http://purl.org/dc/terms/isPartOf>\n",
    "  60585 <http://www.w3.org/2000/01/rdf-schema#member>\n",
    "  60894 <http://xmlns.com/foaf/0.1/familyName>\n",
    "  60894 <http://xmlns.com/foaf/0.1/givenName>\n",
    "  60928 <http://xmlns.com/foaf/0.1/name>\n",
    "  60952 <http://xmlns.com/foaf/0.1/publications>\n",
    " 304714 <http://purl.org/ao/core/annotatesResource>\n",
    " 304714 <http://purl.org/ao/core/body>\n",
    " 304714 <http://purl.org/swan/pav/provenance/createdBy>\n",
    " 304714 <http://purl.org/swan/pav/provenance/createdOn>\n",
    " 304714 <http://rdfs.org/sioc/ns#num_items>\n",
    " 515063 <http://www.w3.org/2000/01/rdf-schema#seeAlso>\n",
    " 613578 <http://purl.org/ao/core/hasTopic>\n",
    " 818815 <http://purl.org/ao/selectors/end>\n",
    " 818815 <http://purl.org/ao/selectors/init>\n",
    " 881753 <http://purl.org/ao/core/onResource>\n",
    " 881753 <http://www.w3.org/2000/01/rdf-schema#resource>\n",
    " 881809 <http://purl.org/ao/core/context>\n",
    "1654377 <http://www.w3.org/1999/02/22-rdf-syntax-ns#type>\n",
    "```"
   ]
  },
  {
   "cell_type": "markdown",
   "metadata": {},
   "source": [
    "From here we see several properties that may indicate research-object-like descriptions. Particularly we see a generous use of the Annotation Ontology] <https://doi.org/10.1186%2F2041-1480-2-S2-S4> "
   ]
  }
 ],
 "metadata": {
  "kernelspec": {
   "display_name": "Python 3",
   "language": "python",
   "name": "python3"
  },
  "language_info": {
   "codemirror_mode": {
    "name": "ipython",
    "version": 3
   },
   "file_extension": ".py",
   "mimetype": "text/x-python",
   "name": "python",
   "nbconvert_exporter": "python",
   "pygments_lexer": "ipython3",
   "version": "3.6.7"
  }
 },
 "nbformat": 4,
 "nbformat_minor": 2
}
